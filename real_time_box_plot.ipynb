{
 "cells": [
  {
   "cell_type": "code",
   "execution_count": 27,
   "metadata": {},
   "outputs": [],
   "source": [
    "import matplotlib.pyplot as plt\n",
    "import pandas as pd\n",
    "import numpy as np\n",
    "import datetime\n",
    "import shutil\n",
    "import csv\n",
    "import os"
   ]
  },
  {
   "cell_type": "code",
   "execution_count": 24,
   "metadata": {},
   "outputs": [],
   "source": [
    "# 請分別輸入病人csv檔案,時間間隔,開始時間\n",
    "# 檔案名稱請附上結尾.csv\n",
    "# 時間間隔單位為分鐘\n",
    "# 開始時間預定為早上8.\n",
    "# ex : visualization('01A5.csv', 30)\n",
    "\n",
    "def visualization(file, time_step, start=8):\n",
    "    df = pd.read_csv(file, header = None)\n",
    "    df[0] = [dt.datetime.strptime(i, '%Y/%m/%d').date() for i in df[0].values]\n",
    "    df[1] = [dt.datetime.strptime(i, '%H:%M:%S').time() for i in df[1].values]\n",
    "    date_list = np.sort(list(dict.fromkeys(df[0].values)))\n",
    "    \n",
    "    today_date = date_list[-1] # 定義今天時間\n",
    "    time_zone = file[:4] + '_' + str(today_date) + ' box plot' \n",
    "    \n",
    "    date = df[0].values\n",
    "    d_filter = (date>=today_date)&(date<today_date+datetime.timedelta(days = 1))\n",
    "    \n",
    "    data = (df[3].values)[d_filter]/100 # each date\n",
    "    time = (df[1].values)[d_filter] # each hour\n",
    "   \n",
    "    start_datetime = datetime.datetime.combine(today_date, datetime.time(start,0))\n",
    "    end_datetime = datetime.datetime.combine(today_date, time[-1])\n",
    "    datetime_list = [(start_datetime+i*datetime.timedelta(minutes = time_step)) for i in range(int(np.floor((end_datetime-start_datetime)/datetime.timedelta(minutes = time_step))))]\n",
    "    \n",
    "    each_hour = []\n",
    "    for t_idx in range(len(datetime_list)):\n",
    "        t_filter = (time>=datetime_list[t_idx].time()) & (time<(datetime_list[t_idx]+datetime.timedelta(minutes = time_step)).time())\n",
    "        tmp = data[(t_filter)&(data>25)&(data<45)]\n",
    "        each_hour.append(tmp)\n",
    "\n",
    "    sick_hour, sick_tmp = read_tmp_to_list('01A5_ear.csv', today_date, datetime.time(start, 0), time_step, 34)\n",
    "    \n",
    "    plt.figure(figsize = (10,5))\n",
    "    plt.boxplot(each_hour, flierprops  = dict(markerfacecolor = 'b', marker = '.'))\n",
    "    baseline = plt.plot(np.linspace(1, time_step, time_step), [35 for i in range(time_step)], 'g:')\n",
    "    sick_points = plt.scatter(sick_hour, sick_tmp,  marker = 'D', color='r' )\n",
    "    \n",
    "    l1 = plt.legend(baseline, ['baseline'], loc='lower right')\n",
    "    plt.legend([sick_points], ['sick points'], loc='upper right')\n",
    "    plt.gca().add_artist(l1)\n",
    "\n",
    "    time_tag = [datetime.datetime.strftime(i, \"%H:%M\") for i in datetime_list]\n",
    "    plt.xticks(np.linspace(1, time_step, time_step), time_tag, rotation='vertical')\n",
    "    plt.xlabel('Hours')\n",
    "    plt.ylabel('Temperature')\n",
    "    plt.suptitle(time_zone)\n",
    "    plt.savefig( time_zone + '.png', dpi = 300)\n",
    "    plt.show()\n"
   ]
  },
  {
   "cell_type": "code",
   "execution_count": 25,
   "metadata": {},
   "outputs": [],
   "source": [
    "# 讀取耳溫量測表的資料 在主程式會用到\n",
    "\n",
    "def read_tmp_to_list(file, today_date, today_start_time, time_step, warning_cri = 37):\n",
    "    \n",
    "    df = pd.read_csv(file, header = None, skiprows=1)\n",
    "    df[0] = [dt.datetime.strptime(i, '%Y-%m-%d').date() for i in df[0].values]\n",
    "    df[1] = [dt.datetime.strptime(i, '%H:%M').time() for i in df[1].values]\n",
    "    if (type(today_date ) != datetime.date) | (type(today_start_time) != datetime.time):\n",
    "        print(\"ERROR DATA TYPE\")\n",
    "        return 0\n",
    "    else:\n",
    "        today_datetime = datetime.datetime.combine(today_date, today_start_time)\n",
    "\n",
    "    df_ear_warn = df[(df[2]>warning_cri)&(df[0]==today_date)&(df[1]>=today_start_time)]\n",
    "    \n",
    "    df_ear_warn[1] = [np.floor((datetime.datetime.combine(today_date, i)-today_datetime)/datetime.timedelta(minutes = time_step)) for i in df_ear_warn[1].values]\n",
    "    \n",
    "    return 1+df_ear_warn[1].values, df_ear_warn[2].values"
   ]
  },
  {
   "cell_type": "code",
   "execution_count": 26,
   "metadata": {},
   "outputs": [
    {
     "name": "stderr",
     "output_type": "stream",
     "text": [
      "/home/math/anaconda3/lib/python3.7/site-packages/ipykernel_launcher.py:16: SettingWithCopyWarning: \n",
      "A value is trying to be set on a copy of a slice from a DataFrame.\n",
      "Try using .loc[row_indexer,col_indexer] = value instead\n",
      "\n",
      "See the caveats in the documentation: http://pandas.pydata.org/pandas-docs/stable/indexing.html#indexing-view-versus-copy\n",
      "  app.launch_new_instance()\n"
     ]
    },
    {
     "data": {
      "image/png": "[encoded data removed]",
      "text/plain": [
       "<Figure size 720x360 with 1 Axes>"
      ]
     },
     "metadata": {
      "needs_background": "light"
     },
     "output_type": "display_data"
    }
   ],
   "source": [
    "# 範例執行方式 :\n",
    "\n",
    "visualization( '01A5.csv', 30 )"
   ]
  },
  {
   "cell_type": "code",
   "execution_count": null,
   "metadata": {},
   "outputs": [],
   "source": []
  }
 ],
 "metadata": {
  "kernelspec": {
   "display_name": "Python 3",
   "language": "python",
   "name": "python3"
  },
  "language_info": {
   "codemirror_mode": {
    "name": "ipython",
    "version": 3
   },
   "file_extension": ".py",
   "mimetype": "text/x-python",
   "name": "python",
   "nbconvert_exporter": "python",
   "pygments_lexer": "ipython3",
   "version": "3.7.3"
  }
 },
 "nbformat": 4,
 "nbformat_minor": 4
}
