{
 "cells": [
  {
   "cell_type": "code",
<<<<<<< HEAD
   "execution_count": 74,
=======
   "execution_count": 185,
>>>>>>> 7bcf74d482f41be66b1430249fb49b35910bd08d
   "metadata": {},
   "outputs": [],
   "source": [
    "import numpy as np\n",
<<<<<<< HEAD
    "import datetime \n",
    "import matplotlib.pyplot as plt\n",
    "import os\n",
    "import pandas as pd\n",
    "from dateutil.relativedelta import relativedelta"
=======
    "import datetime\n",
    "import matplotlib.pyplot as plt\n",
    "import os\n",
    "import pandas as pd"
>>>>>>> 7bcf74d482f41be66b1430249fb49b35910bd08d
   ]
  },
  {
   "cell_type": "code",
<<<<<<< HEAD
   "execution_count": 38,
   "metadata": {},
   "outputs": [],
   "source": [
    "PATH = \"//home//math//NCKU_H//wear_device_proj//src//\""
=======
   "execution_count": 2,
   "metadata": {},
   "outputs": [],
   "source": [
    "PATH = 'C:\\\\Users\\\\user\\\\Downloads\\\\weareable_device_2020\\\\'"
>>>>>>> 7bcf74d482f41be66b1430249fb49b35910bd08d
   ]
  },
  {
   "cell_type": "code",
<<<<<<< HEAD
   "execution_count": 39,
=======
   "execution_count": 51,
   "metadata": {},
   "outputs": [],
   "source": [
    "dirlist = []\n",
    "for dirPath, dirNames, fileNames in os.walk(\"C:\\\\Users\\\\user\\\\Downloads\\\\drive-download-20200128T141241Z-001\\\\\"):\n",
    "    dirlist.append(dirNames)\n",
    "    break\n",
    "dirlist = dirlist[0]"
   ]
  },
  {
   "cell_type": "code",
   "execution_count": 52,
>>>>>>> 7bcf74d482f41be66b1430249fb49b35910bd08d
   "metadata": {},
   "outputs": [
    {
     "data": {
      "text/plain": [
<<<<<<< HEAD
       "[]"
      ]
     },
     "execution_count": 39,
=======
       "['Dr黃O玉(0450)',\n",
       " 'index_李O哲(0386)',\n",
       " '劉恩惠(045F)',\n",
       " '卓季璇(0617)',\n",
       " '吳佳鉛(03D3)',\n",
       " '吳宛靜(067F)',\n",
       " '吳葦婷(0564)',\n",
       " '呂美雲(00B6)',\n",
       " '張暖琪(01D9)',\n",
       " '張雅欣(031F)',\n",
       " '方海屏(0599)',\n",
       " '曾稚珺(04F9)',\n",
       " '李軍毅(0411)',\n",
       " '林晉慶(017A)',\n",
       " '林鈺瑄(07D7)',\n",
       " '歐鳳娟(0436)',\n",
       " '江佩蓉(0057)',\n",
       " '王怡媜(01C2)',\n",
       " '簡彤涓(05A3)',\n",
       " '許芳瑜(030C)',\n",
       " '趙心儀(00CE)',\n",
       " '郭真伶(069E)',\n",
       " '陳毓喜(0467)',\n",
       " '陳芳慈(04D5)',\n",
       " '陳貞樺(0421)',\n",
       " '高珮蓉(0609)',\n",
       " '黃筱婷(042E)']"
      ]
     },
     "execution_count": 52,
>>>>>>> 7bcf74d482f41be66b1430249fb49b35910bd08d
     "metadata": {},
     "output_type": "execute_result"
    }
   ],
   "source": [
<<<<<<< HEAD
    "dirlist = []\n",
    "for dirPath, dirNames, fileNames in os.walk('home/'):\n",
    "    dirlist.append(dirNames)\n",
    "    break\n",
    "dirlist"
=======
    "dirlist = dirlist[3:]"
>>>>>>> 7bcf74d482f41be66b1430249fb49b35910bd08d
   ]
  },
  {
   "cell_type": "code",
<<<<<<< HEAD
   "execution_count": 48,
   "metadata": {},
   "outputs": [
    {
     "ename": "FileNotFoundError",
     "evalue": "[Errno 2] File b'//home//math//NCKU_H//wear_device_proj//src//75\\\\75.csv' does not exist: b'//home//math//NCKU_H//wear_device_proj//src//75\\\\75.csv'",
     "output_type": "error",
     "traceback": [
      "\u001b[0;31m---------------------------------------------------------------------------\u001b[0m",
      "\u001b[0;31mFileNotFoundError\u001b[0m                         Traceback (most recent call last)",
      "\u001b[0;32m<ipython-input-48-9426d6e2b931>\u001b[0m in \u001b[0;36m<module>\u001b[0;34m\u001b[0m\n\u001b[1;32m      1\u001b[0m \u001b[0;32mfor\u001b[0m \u001b[0mpid\u001b[0m \u001b[0;32min\u001b[0m \u001b[0mrange\u001b[0m\u001b[0;34m(\u001b[0m\u001b[0;36m75\u001b[0m\u001b[0;34m,\u001b[0m\u001b[0;36m76\u001b[0m\u001b[0;34m)\u001b[0m\u001b[0;34m:\u001b[0m\u001b[0;34m\u001b[0m\u001b[0;34m\u001b[0m\u001b[0m\n\u001b[0;32m----> 2\u001b[0;31m     \u001b[0mdf\u001b[0m \u001b[0;34m=\u001b[0m \u001b[0mpd\u001b[0m\u001b[0;34m.\u001b[0m\u001b[0mread_csv\u001b[0m\u001b[0;34m(\u001b[0m\u001b[0mPATH\u001b[0m\u001b[0;34m+\u001b[0m\u001b[0mstr\u001b[0m\u001b[0;34m(\u001b[0m\u001b[0mpid\u001b[0m\u001b[0;34m)\u001b[0m\u001b[0;34m+\u001b[0m\u001b[0;34m'\\\\'\u001b[0m\u001b[0;34m+\u001b[0m\u001b[0mstr\u001b[0m\u001b[0;34m(\u001b[0m\u001b[0mpid\u001b[0m\u001b[0;34m)\u001b[0m\u001b[0;34m+\u001b[0m\u001b[0;34m'.csv'\u001b[0m\u001b[0;34m,\u001b[0m \u001b[0mheader\u001b[0m \u001b[0;34m=\u001b[0m \u001b[0;32mNone\u001b[0m\u001b[0;34m)\u001b[0m\u001b[0;34m\u001b[0m\u001b[0;34m\u001b[0m\u001b[0m\n\u001b[0m\u001b[1;32m      3\u001b[0m     \u001b[0mdf\u001b[0m\u001b[0;34m[\u001b[0m\u001b[0;36m0\u001b[0m\u001b[0;34m]\u001b[0m \u001b[0;34m=\u001b[0m \u001b[0;34m[\u001b[0m\u001b[0mdatetime\u001b[0m\u001b[0;34m.\u001b[0m\u001b[0mdatetime\u001b[0m\u001b[0;34m.\u001b[0m\u001b[0mstrptime\u001b[0m\u001b[0;34m(\u001b[0m\u001b[0mi\u001b[0m\u001b[0;34m,\u001b[0m \u001b[0;34m'%Y-%m-%d'\u001b[0m\u001b[0;34m)\u001b[0m \u001b[0;32mfor\u001b[0m \u001b[0mi\u001b[0m \u001b[0;32min\u001b[0m \u001b[0mdf\u001b[0m\u001b[0;34m[\u001b[0m\u001b[0;36m0\u001b[0m\u001b[0;34m]\u001b[0m\u001b[0;34m.\u001b[0m\u001b[0mvalues\u001b[0m\u001b[0;34m]\u001b[0m\u001b[0;34m\u001b[0m\u001b[0;34m\u001b[0m\u001b[0m\n\u001b[1;32m      4\u001b[0m     \u001b[0mdf\u001b[0m\u001b[0;34m[\u001b[0m\u001b[0;36m1\u001b[0m\u001b[0;34m]\u001b[0m \u001b[0;34m=\u001b[0m \u001b[0;34m[\u001b[0m\u001b[0mdatetime\u001b[0m\u001b[0;34m.\u001b[0m\u001b[0mdatetime\u001b[0m\u001b[0;34m.\u001b[0m\u001b[0mstrptime\u001b[0m\u001b[0;34m(\u001b[0m\u001b[0mi\u001b[0m\u001b[0;34m,\u001b[0m \u001b[0;34m'%H:%M:%S'\u001b[0m\u001b[0;34m)\u001b[0m\u001b[0;34m.\u001b[0m\u001b[0mtime\u001b[0m\u001b[0;34m(\u001b[0m\u001b[0;34m)\u001b[0m \u001b[0;32mfor\u001b[0m \u001b[0mi\u001b[0m \u001b[0;32min\u001b[0m \u001b[0mdf\u001b[0m\u001b[0;34m[\u001b[0m\u001b[0;36m1\u001b[0m\u001b[0;34m]\u001b[0m\u001b[0;34m.\u001b[0m\u001b[0mvalues\u001b[0m\u001b[0;34m]\u001b[0m\u001b[0;34m\u001b[0m\u001b[0;34m\u001b[0m\u001b[0m\n\u001b[1;32m      5\u001b[0m \u001b[0;34m\u001b[0m\u001b[0m\n",
      "\u001b[0;32m~/anaconda3/lib/python3.7/site-packages/pandas/io/parsers.py\u001b[0m in \u001b[0;36mparser_f\u001b[0;34m(filepath_or_buffer, sep, delimiter, header, names, index_col, usecols, squeeze, prefix, mangle_dupe_cols, dtype, engine, converters, true_values, false_values, skipinitialspace, skiprows, skipfooter, nrows, na_values, keep_default_na, na_filter, verbose, skip_blank_lines, parse_dates, infer_datetime_format, keep_date_col, date_parser, dayfirst, iterator, chunksize, compression, thousands, decimal, lineterminator, quotechar, quoting, doublequote, escapechar, comment, encoding, dialect, tupleize_cols, error_bad_lines, warn_bad_lines, delim_whitespace, low_memory, memory_map, float_precision)\u001b[0m\n\u001b[1;32m    700\u001b[0m                     skip_blank_lines=skip_blank_lines)\n\u001b[1;32m    701\u001b[0m \u001b[0;34m\u001b[0m\u001b[0m\n\u001b[0;32m--> 702\u001b[0;31m         \u001b[0;32mreturn\u001b[0m \u001b[0m_read\u001b[0m\u001b[0;34m(\u001b[0m\u001b[0mfilepath_or_buffer\u001b[0m\u001b[0;34m,\u001b[0m \u001b[0mkwds\u001b[0m\u001b[0;34m)\u001b[0m\u001b[0;34m\u001b[0m\u001b[0;34m\u001b[0m\u001b[0m\n\u001b[0m\u001b[1;32m    703\u001b[0m \u001b[0;34m\u001b[0m\u001b[0m\n\u001b[1;32m    704\u001b[0m     \u001b[0mparser_f\u001b[0m\u001b[0;34m.\u001b[0m\u001b[0m__name__\u001b[0m \u001b[0;34m=\u001b[0m \u001b[0mname\u001b[0m\u001b[0;34m\u001b[0m\u001b[0;34m\u001b[0m\u001b[0m\n",
      "\u001b[0;32m~/anaconda3/lib/python3.7/site-packages/pandas/io/parsers.py\u001b[0m in \u001b[0;36m_read\u001b[0;34m(filepath_or_buffer, kwds)\u001b[0m\n\u001b[1;32m    427\u001b[0m \u001b[0;34m\u001b[0m\u001b[0m\n\u001b[1;32m    428\u001b[0m     \u001b[0;31m# Create the parser.\u001b[0m\u001b[0;34m\u001b[0m\u001b[0;34m\u001b[0m\u001b[0;34m\u001b[0m\u001b[0m\n\u001b[0;32m--> 429\u001b[0;31m     \u001b[0mparser\u001b[0m \u001b[0;34m=\u001b[0m \u001b[0mTextFileReader\u001b[0m\u001b[0;34m(\u001b[0m\u001b[0mfilepath_or_buffer\u001b[0m\u001b[0;34m,\u001b[0m \u001b[0;34m**\u001b[0m\u001b[0mkwds\u001b[0m\u001b[0;34m)\u001b[0m\u001b[0;34m\u001b[0m\u001b[0;34m\u001b[0m\u001b[0m\n\u001b[0m\u001b[1;32m    430\u001b[0m \u001b[0;34m\u001b[0m\u001b[0m\n\u001b[1;32m    431\u001b[0m     \u001b[0;32mif\u001b[0m \u001b[0mchunksize\u001b[0m \u001b[0;32mor\u001b[0m \u001b[0miterator\u001b[0m\u001b[0;34m:\u001b[0m\u001b[0;34m\u001b[0m\u001b[0;34m\u001b[0m\u001b[0m\n",
      "\u001b[0;32m~/anaconda3/lib/python3.7/site-packages/pandas/io/parsers.py\u001b[0m in \u001b[0;36m__init__\u001b[0;34m(self, f, engine, **kwds)\u001b[0m\n\u001b[1;32m    893\u001b[0m             \u001b[0mself\u001b[0m\u001b[0;34m.\u001b[0m\u001b[0moptions\u001b[0m\u001b[0;34m[\u001b[0m\u001b[0;34m'has_index_names'\u001b[0m\u001b[0;34m]\u001b[0m \u001b[0;34m=\u001b[0m \u001b[0mkwds\u001b[0m\u001b[0;34m[\u001b[0m\u001b[0;34m'has_index_names'\u001b[0m\u001b[0;34m]\u001b[0m\u001b[0;34m\u001b[0m\u001b[0;34m\u001b[0m\u001b[0m\n\u001b[1;32m    894\u001b[0m \u001b[0;34m\u001b[0m\u001b[0m\n\u001b[0;32m--> 895\u001b[0;31m         \u001b[0mself\u001b[0m\u001b[0;34m.\u001b[0m\u001b[0m_make_engine\u001b[0m\u001b[0;34m(\u001b[0m\u001b[0mself\u001b[0m\u001b[0;34m.\u001b[0m\u001b[0mengine\u001b[0m\u001b[0;34m)\u001b[0m\u001b[0;34m\u001b[0m\u001b[0;34m\u001b[0m\u001b[0m\n\u001b[0m\u001b[1;32m    896\u001b[0m \u001b[0;34m\u001b[0m\u001b[0m\n\u001b[1;32m    897\u001b[0m     \u001b[0;32mdef\u001b[0m \u001b[0mclose\u001b[0m\u001b[0;34m(\u001b[0m\u001b[0mself\u001b[0m\u001b[0;34m)\u001b[0m\u001b[0;34m:\u001b[0m\u001b[0;34m\u001b[0m\u001b[0;34m\u001b[0m\u001b[0m\n",
      "\u001b[0;32m~/anaconda3/lib/python3.7/site-packages/pandas/io/parsers.py\u001b[0m in \u001b[0;36m_make_engine\u001b[0;34m(self, engine)\u001b[0m\n\u001b[1;32m   1120\u001b[0m     \u001b[0;32mdef\u001b[0m \u001b[0m_make_engine\u001b[0m\u001b[0;34m(\u001b[0m\u001b[0mself\u001b[0m\u001b[0;34m,\u001b[0m \u001b[0mengine\u001b[0m\u001b[0;34m=\u001b[0m\u001b[0;34m'c'\u001b[0m\u001b[0;34m)\u001b[0m\u001b[0;34m:\u001b[0m\u001b[0;34m\u001b[0m\u001b[0;34m\u001b[0m\u001b[0m\n\u001b[1;32m   1121\u001b[0m         \u001b[0;32mif\u001b[0m \u001b[0mengine\u001b[0m \u001b[0;34m==\u001b[0m \u001b[0;34m'c'\u001b[0m\u001b[0;34m:\u001b[0m\u001b[0;34m\u001b[0m\u001b[0;34m\u001b[0m\u001b[0m\n\u001b[0;32m-> 1122\u001b[0;31m             \u001b[0mself\u001b[0m\u001b[0;34m.\u001b[0m\u001b[0m_engine\u001b[0m \u001b[0;34m=\u001b[0m \u001b[0mCParserWrapper\u001b[0m\u001b[0;34m(\u001b[0m\u001b[0mself\u001b[0m\u001b[0;34m.\u001b[0m\u001b[0mf\u001b[0m\u001b[0;34m,\u001b[0m \u001b[0;34m**\u001b[0m\u001b[0mself\u001b[0m\u001b[0;34m.\u001b[0m\u001b[0moptions\u001b[0m\u001b[0;34m)\u001b[0m\u001b[0;34m\u001b[0m\u001b[0;34m\u001b[0m\u001b[0m\n\u001b[0m\u001b[1;32m   1123\u001b[0m         \u001b[0;32melse\u001b[0m\u001b[0;34m:\u001b[0m\u001b[0;34m\u001b[0m\u001b[0;34m\u001b[0m\u001b[0m\n\u001b[1;32m   1124\u001b[0m             \u001b[0;32mif\u001b[0m \u001b[0mengine\u001b[0m \u001b[0;34m==\u001b[0m \u001b[0;34m'python'\u001b[0m\u001b[0;34m:\u001b[0m\u001b[0;34m\u001b[0m\u001b[0;34m\u001b[0m\u001b[0m\n",
      "\u001b[0;32m~/anaconda3/lib/python3.7/site-packages/pandas/io/parsers.py\u001b[0m in \u001b[0;36m__init__\u001b[0;34m(self, src, **kwds)\u001b[0m\n\u001b[1;32m   1851\u001b[0m         \u001b[0mkwds\u001b[0m\u001b[0;34m[\u001b[0m\u001b[0;34m'usecols'\u001b[0m\u001b[0;34m]\u001b[0m \u001b[0;34m=\u001b[0m \u001b[0mself\u001b[0m\u001b[0;34m.\u001b[0m\u001b[0musecols\u001b[0m\u001b[0;34m\u001b[0m\u001b[0;34m\u001b[0m\u001b[0m\n\u001b[1;32m   1852\u001b[0m \u001b[0;34m\u001b[0m\u001b[0m\n\u001b[0;32m-> 1853\u001b[0;31m         \u001b[0mself\u001b[0m\u001b[0;34m.\u001b[0m\u001b[0m_reader\u001b[0m \u001b[0;34m=\u001b[0m \u001b[0mparsers\u001b[0m\u001b[0;34m.\u001b[0m\u001b[0mTextReader\u001b[0m\u001b[0;34m(\u001b[0m\u001b[0msrc\u001b[0m\u001b[0;34m,\u001b[0m \u001b[0;34m**\u001b[0m\u001b[0mkwds\u001b[0m\u001b[0;34m)\u001b[0m\u001b[0;34m\u001b[0m\u001b[0;34m\u001b[0m\u001b[0m\n\u001b[0m\u001b[1;32m   1854\u001b[0m         \u001b[0mself\u001b[0m\u001b[0;34m.\u001b[0m\u001b[0munnamed_cols\u001b[0m \u001b[0;34m=\u001b[0m \u001b[0mself\u001b[0m\u001b[0;34m.\u001b[0m\u001b[0m_reader\u001b[0m\u001b[0;34m.\u001b[0m\u001b[0munnamed_cols\u001b[0m\u001b[0;34m\u001b[0m\u001b[0;34m\u001b[0m\u001b[0m\n\u001b[1;32m   1855\u001b[0m \u001b[0;34m\u001b[0m\u001b[0m\n",
      "\u001b[0;32mpandas/_libs/parsers.pyx\u001b[0m in \u001b[0;36mpandas._libs.parsers.TextReader.__cinit__\u001b[0;34m()\u001b[0m\n",
      "\u001b[0;32mpandas/_libs/parsers.pyx\u001b[0m in \u001b[0;36mpandas._libs.parsers.TextReader._setup_parser_source\u001b[0;34m()\u001b[0m\n",
      "\u001b[0;31mFileNotFoundError\u001b[0m: [Errno 2] File b'//home//math//NCKU_H//wear_device_proj//src//75\\\\75.csv' does not exist: b'//home//math//NCKU_H//wear_device_proj//src//75\\\\75.csv'"
     ]
    }
   ],
   "source": [
    "for pid in range(75,76):\n",
    "    df = pd.read_csv(PATH+str(pid)+'\\\\'+str(pid)+'.csv', header = None)\n",
    "    df[0] = [datetime.datetime.strptime(i, '%Y-%m-%d') for i in df[0].values]\n",
    "    df[1] = [datetime.datetime.strptime(i, '%H:%M:%S').time() for i in df[1].values]\n",
    "    \n",
    "    date_list = list(dict.fromkeys(df[0].values))\n",
    "    hour_list = np.arange(8,19) \n",
    "    for d_idx in range(len(date_list)):\n",
    "        date = df[0].values\n",
    "        d_filter = (date>=date_list[d_idx])&(date<(date_list[d_idx]+np.timedelta64(1,'D')))\n",
    "        time_zone = 'From '+np.datetime_as_string(date_list[d_idx], unit = 'D')+' to '+np.datetime_as_string(date_list[d_idx]+np.timedelta64(1,'D'), unit = 'D')\n",
    "        \n",
    "        data = (df[3].values)[d_filter] #each date data\n",
    "        hour = (df[1].values)[d_filter] #each date each hour\n",
    "        \n",
    "        each_hour = []\n",
    "        for h_idx in hour_list:\n",
    "            h_filter = (hour>=datetime.time(hour = h_idx))&(hour<datetime.time(hour = h_idx+1))\n",
    "            tmp = data[(h_filter)&(data>25)&(data<45)]\n",
    "            \n",
    "            each_hour.append(tmp)\n",
    "        \n",
    "        plt.figure(figsize = (10,5))\n",
    "        plt.plot(np.linspace(1,11,12), [35 for i in range(12)], 'g:')\n",
    "        plt.boxplot(each_hour, flierprops  = dict(markerfacecolor = 'b', marker = '.'))\n",
    "        plt.xticks(np.linspace(1,11,12), np.array(np.linspace(7,18,12), dtype = int))\n",
    "        plt.xlabel('Hours')\n",
    "        plt.ylabel('Temperature')\n",
    "        plt.suptitle(time_zone)\n",
    "        plt.savefig(PATH+str(pid)+'\\\\'+dirlist[pid-75]+' box plot '+time_zone+'.png', dpi = 300)\n",
    "        plt.show()\n",
    "#     print(time_zone)"
=======
   "execution_count": 425,
   "metadata": {},
   "outputs": [],
   "source": [
    "def visualization(file, time_step, start=8):\n",
    "#     todays_date = dt.datetime.now()\n",
    "#     start_time = dt.datetime(todays_date.year, todays_date.month, todays_date.day, 8, 0)\n",
    "    df = pd.read_csv(file, header = None)\n",
    "    df[0] = [dt.datetime.strptime(i, '%Y/%m/%d').date() for i in df[0].values]\n",
    "    df[1] = [dt.datetime.strptime(i, '%H:%M:%S').time() for i in df[1].values]\n",
    "    date_list = np.sort(list(dict.fromkeys(df[0].values)))\n",
    "    \n",
    "    today_date = date_list[-1] # 定義今天時間\n",
    "    # 定義時間區間\n",
    "    print (today_date)\n",
    "    date = df[0].values\n",
    "    d_filter = (date>=today_date)&(date<today_date+datetime.timedelta(days = 1))\n",
    "    \n",
    "#     time_zone = 'From '+np.datetime_as_string(np.datetime64(todays_date.date()), unit = 'D')+' to '+np.datetime_as_string(np.datetime64(todays_date+dt.timedelta(days=1)), unit = 'D')\n",
    "\n",
    "    data = (df[3].values)[d_filter]/100 #each date data\n",
    "    time = (df[1].values)[d_filter] #each date each hour\n",
    "   \n",
    "    start_datetime = datetime.datetime.combine(today_date, datetime.time(start,0))\n",
    "    end_datetime = datetime.datetime.combine(today_date, time[-1])\n",
    "    datetime_list = [(start_datetime+i*datetime.timedelta(minutes = time_step)) for i in range(int(np.floor((end_datetime-start_datetime)/datetime.timedelta(minutes = time_step))))]\n",
    "    \n",
    "    each_hour = []\n",
    "    for t_idx in range(len(datetime_list)):\n",
    "        t_filter = (time>=datetime_list[t_idx].time()) & (time<(datetime_list[t_idx]+datetime.timedelta(minutes = time_step)).time())\n",
    "        tmp = data[(t_filter)&(data>25)&(data<45)]\n",
    "        each_hour.append(tmp)\n",
    "\n",
    "    plt.figure(figsize = (10,5))\n",
    "    plt.plot(np.linspace(1, time_step, time_step), [35 for i in range(time_step)], 'g:')\n",
    "    plt.boxplot(each_hour, flierprops  = dict(markerfacecolor = 'b', marker = '.'))\n",
    "    time_tag = [datetime.datetime.strftime(i, \"%H:%M\") for i in datetime_list]\n",
    "    plt.xticks(np.linspace(1, time_step, time_step), time_tag, rotation='vertical')\n",
    "    \n",
    "    sick_list = []\n",
    "    sick_hour = []\n",
    "    read_tmp_to_list('01A5_ear.csv', today_date, sick_hour, sick_list)\n",
    "    \n",
    "#     for i in range(len(each_hour)):\n",
    "#         for j in each_hour[i]:\n",
    "#             if int(j)>36 :\n",
    "#                 sick_hour.append(i)\n",
    "#                 sick_list.append(j)\n",
    "                \n",
    "    plt.scatter(sick_hour, sick_list, label='sick_man', c = 'r')\n",
    "    plt.legend(['baseline'])\n",
    "    plt.xlabel('Hours')\n",
    "    plt.ylabel('Temperature')\n",
    "#     plt.suptitle(time_zone)\n",
    "#     plt.savefig(PATH+str(pid)+'\\\\'+dirlist[pid-75]+' box plot '+time_zone+'.png', dpi = 300)\n",
    "    plt.show()\n",
    "#     print(time_zone)"
   ]
  },
  {
   "cell_type": "code",
   "execution_count": null,
   "metadata": {},
   "outputs": [],
   "source": [
    "def read_tmp_to_list(file, date, hour_list, tmp_list):\n",
    "    df = pd.read_csv(file, header=None)\n",
    "    hour_list = []\n",
    "    tmp_list = []\n",
    "    for day in range(len(df[0])):\n",
    "        if df[0][day] == datetime.datetime.strftime(date, format='%Y-%m-%d'):\n",
    "            hour_list.append(df[1][day])\n",
    "            tmp_list.append(df[2][day])\n",
    "hh = []\n",
    "tt = []\n",
    "read_tmp_to_list('01A5_ear.csv', '2020-01-25', hh, tt)"
   ]
  },
  {
   "cell_type": "code",
   "execution_count": 428,
   "metadata": {},
   "outputs": [
    {
     "name": "stdout",
     "output_type": "stream",
     "text": [
      "2020-01-25\n",
      "日期\n",
      "<class 'datetime.date'>\n",
      "\n",
      "2020-01-24\n",
      "<class 'datetime.date'>\n",
      "\n",
      "2020-01-24\n",
      "<class 'datetime.date'>\n",
      "\n",
      "2020-01-25\n",
      "<class 'datetime.date'>\n",
      "\n",
      "yoyo\n",
      "2020-01-25\n",
      "<class 'datetime.date'>\n",
      "\n",
      "yoyo\n",
      "2020-01-25\n",
      "<class 'datetime.date'>\n",
      "\n",
      "yoyo\n",
      "2020-01-25\n",
      "<class 'datetime.date'>\n",
      "\n",
      "yoyo\n",
      "2020-01-26\n",
      "<class 'datetime.date'>\n",
      "\n",
      "2020-01-26\n",
      "<class 'datetime.date'>\n",
      "\n",
      "2020-01-27\n",
      "<class 'datetime.date'>\n",
      "\n",
      "['06:30', '08:00', '13:00', '18:30']\n",
      "['38.2', '37.6', '36.3', '37.4']\n"
     ]
    },
    {
     "data": {
      "image/png": "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\n",
      "text/plain": [
       "<Figure size 720x360 with 1 Axes>"
      ]
     },
     "metadata": {
      "needs_background": "light"
     },
     "output_type": "display_data"
    }
   ],
   "source": [
    "yoyo = []\n",
    "visualization( '01A5.csv', 30 )"
>>>>>>> 7bcf74d482f41be66b1430249fb49b35910bd08d
   ]
  },
  {
   "cell_type": "code",
<<<<<<< HEAD
   "execution_count": null,
   "metadata": {},
   "outputs": [],
   "source": [
    "np.datetime64.(1,'D')"
   ]
=======
   "execution_count": 115,
   "metadata": {},
   "outputs": [
    {
     "name": "stdout",
     "output_type": "stream",
     "text": [
      "<class 'numpy.datetime64'>\n",
      "366 days\n",
      "<class 'numpy.timedelta64'>\n",
      "2009-01-21\n",
      "2011-06-15T12:00\n",
      "7.0\n"
     ]
    }
   ],
   "source": [
    "datetime_delta = np.datetime64('2009-01-01') - np.datetime64('2008-01-01') \n",
    "print (type(np.datetime64('2009-01-01')))\n",
    "print(datetime_delta) #366 days \n",
    "print(type(datetime_delta) ) #<class 'numpy.timedelta64'> \n",
    "\n",
    "datetime_delta = np.datetime64('2009') + np.timedelta64(20, 'D') \n",
    "print(datetime_delta)#2009-01-21 \n",
    "\n",
    "datetime_delta = np.datetime64('2011-06-15T00:00') + np.timedelta64(12, 'h') \n",
    "print(datetime_delta)#2011-06-15T12:00 \n",
    "\n",
    "datetime_delta = np.timedelta64(1,'W') / np.timedelta64(1,'D') \n",
    "print(datetime_delta)#7.0\n",
    "\n"
   ]
  },
  {
   "cell_type": "code",
   "execution_count": 86,
   "metadata": {},
   "outputs": [],
   "source": [
    "tmp = [np.datetime64('2020-02-05T00:00:00.000000000'), np.datetime64('2020-01-03T00:00:00.000000000')]"
   ]
  },
  {
   "cell_type": "code",
   "execution_count": 219,
   "metadata": {},
   "outputs": [
    {
     "data": {
      "text/plain": [
       "datetime.date(2020, 2, 5)"
      ]
     },
     "execution_count": 219,
     "metadata": {},
     "output_type": "execute_result"
    }
   ],
   "source": [
    "datetime.date(2020, 2, 4)+datetime.timedelta(days = 1)"
   ]
  },
  {
   "cell_type": "code",
   "execution_count": 223,
   "metadata": {},
   "outputs": [
    {
     "data": {
      "text/plain": [
       "datetime.datetime(2020, 2, 4, 9, 0)"
      ]
     },
     "execution_count": 223,
     "metadata": {},
     "output_type": "execute_result"
    }
   ],
   "source": [
    "datetime.datetime.combine(datetime.date(2020, 2, 4), datetime.time(8,0))+datetime.timedelta(minutes = 60)"
   ]
  },
  {
   "cell_type": "code",
   "execution_count": 279,
   "metadata": {},
   "outputs": [
    {
     "data": {
      "image/png": "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\n",
      "text/plain": [
       "<Figure size 432x288 with 1 Axes>"
      ]
     },
     "metadata": {
      "needs_background": "light"
     },
     "output_type": "display_data"
    }
   ],
   "source": [
    "import matplotlib.pyplot as plt \n",
    "import random\n",
    "\n",
    "x1 = [random.randrange(0,20) for _ in range(10)]\n",
    "x2 = [random.randrange(0,20) for _ in range(10)]\n",
    "y1 = [random.randrange(30,60) for _ in range(10)]\n",
    "y2 = [random.randrange(50,80) for _ in range(10)]\n",
    "\n",
    "plt.scatter(x1, y1, label='group 1', marker='^', c='r', s=[150 for s in range(len(x1))])\n",
    "plt.scatter(x2, y2, label='group 2', marker='s', c='c', s=[150 for s in range(len(x2))])\n",
    "\n",
    "plt.title(\"Multiple Plot\")\n",
    "plt.xlabel(\"x\")\n",
    "plt.ylabel(\"y\")\n",
    "plt.legend()\n",
    "plt.show()"
   ]
  },
  {
   "cell_type": "code",
   "execution_count": 130,
   "metadata": {},
   "outputs": [],
   "source": [
    "todays_date = dt.datetime.now()"
   ]
  },
  {
   "cell_type": "code",
   "execution_count": 137,
   "metadata": {},
   "outputs": [
    {
     "data": {
      "text/plain": [
       "'From 2020-02-13 to 2020-02-14'"
      ]
     },
     "execution_count": 137,
     "metadata": {},
     "output_type": "execute_result"
    }
   ],
   "source": [
    "time_zone = 'From '+np.datetime_as_string(np.datetime64(todays_date.date()), unit = 'D')+' to '+np.datetime_as_string(np.datetime64(todays_date+dt.timedelta(days=1)), unit = 'D')\n",
    "time_zone"
   ]
  },
  {
   "cell_type": "code",
   "execution_count": 129,
   "metadata": {},
   "outputs": [
    {
     "data": {
      "text/plain": [
       "'2020-02-13'"
      ]
     },
     "execution_count": 129,
     "metadata": {},
     "output_type": "execute_result"
    }
   ],
   "source": [
    "np.datetime_as_string(np.datetime64(dt.datetime.now().date()), unit = 'D')\n"
   ]
  },
  {
   "cell_type": "code",
   "execution_count": null,
   "metadata": {},
   "outputs": [],
   "source": []
>>>>>>> 7bcf74d482f41be66b1430249fb49b35910bd08d
  }
 ],
 "metadata": {
  "kernelspec": {
   "display_name": "Python 3",
   "language": "python",
   "name": "python3"
  },
  "language_info": {
   "codemirror_mode": {
    "name": "ipython",
    "version": 3
   },
   "file_extension": ".py",
   "mimetype": "text/x-python",
   "name": "python",
   "nbconvert_exporter": "python",
   "pygments_lexer": "ipython3",
   "version": "3.7.3"
  }
 },
 "nbformat": 4,
 "nbformat_minor": 4
}
