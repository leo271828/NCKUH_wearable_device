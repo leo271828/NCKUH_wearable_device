{
 "cells": [
  {
   "cell_type": "code",
   "execution_count": 1,
   "metadata": {},
   "outputs": [],
   "source": [
    "import numpy as np\n",
    "import pandas as pd\n",
    "from datetime import datetime\n",
    "import datetime as d"
   ]
  },
  {
   "cell_type": "code",
   "execution_count": 2,
   "metadata": {},
   "outputs": [],
   "source": [
    "PATH = \"/home/math/NCKU_H/33_patient_f/\"\n",
    "temp_df = pd.read_csv(PATH+'33_temp_after_proce.csv', header = 0)\n",
    "temperature_info_list = temp_df.values\n",
    "nurse_info_list = pd.read_csv(PATH+'33_nurse.csv', header = 0).values"
   ]
  },
  {
   "cell_type": "code",
   "execution_count": 3,
   "metadata": {},
   "outputs": [
    {
     "data": {
      "text/plain": [
       "array([['2019/4/30 15:27:24', 27.79],\n",
       "       ['2019/4/30 15:27:25', 27.8],\n",
       "       ['2019/4/30 15:27:26', 27.77],\n",
       "       ...,\n",
       "       ['2019/5/14 14:55:10', 28.8],\n",
       "       ['2019/5/14 14:55:11', 28.79],\n",
       "       ['2019/5/14 14:55:12', 28.8]], dtype=object)"
      ]
     },
     "execution_count": 3,
     "metadata": {},
     "output_type": "execute_result"
    }
   ],
   "source": [
    "temperature_info_list"
   ]
  },
  {
   "cell_type": "code",
   "execution_count": 4,
   "metadata": {},
   "outputs": [],
   "source": [
    "temperature = temperature_info_list[:,1]"
   ]
  },
  {
   "cell_type": "code",
   "execution_count": 5,
   "metadata": {},
   "outputs": [
    {
     "data": {
      "text/plain": [
       "array([27.79, 27.8, 27.77, ..., 28.8, 28.79, 28.8], dtype=object)"
      ]
     },
     "execution_count": 5,
     "metadata": {},
     "output_type": "execute_result"
    }
   ],
   "source": [
    "temperature"
   ]
  },
  {
   "cell_type": "code",
   "execution_count": 6,
   "metadata": {},
   "outputs": [],
   "source": [
    "feaver_time_interval = []\n",
    "for index in range(len(nurse_info_list)):\n",
    "    if nurse_info_list[index][1]>38:\n",
    "        feaver_time_interval.append([datetime.strptime(nurse_info_list[index][0],  \"%m/%d/%y %H:%M:%S\")])\n",
    "        for time_idx in range(index, len(nurse_info_list)):\n",
    "            if nurse_info_list[time_idx][1]<38:\n",
    "                feaver_time_interval[-1].append(datetime.strptime(nurse_info_list[time_idx][0],  \"%m/%d/%y %H:%M:%S\"))\n",
    "                break"
   ]
  },
  {
   "cell_type": "code",
   "execution_count": 7,
   "metadata": {},
   "outputs": [
    {
     "data": {
      "text/plain": [
       "[[datetime.datetime(2019, 4, 30, 14, 0),\n",
       "  datetime.datetime(2019, 4, 30, 18, 14)],\n",
       " [datetime.datetime(2019, 5, 1, 10, 0), datetime.datetime(2019, 5, 1, 14, 8)],\n",
       " [datetime.datetime(2019, 5, 5, 22, 0), datetime.datetime(2019, 5, 6, 2, 0)],\n",
       " [datetime.datetime(2019, 5, 8, 18, 29), datetime.datetime(2019, 5, 8, 21, 0)]]"
      ]
     },
     "execution_count": 7,
     "metadata": {},
     "output_type": "execute_result"
    }
   ],
   "source": [
    "feaver_time_interval"
   ]
  },
  {
   "cell_type": "code",
   "execution_count": 8,
   "metadata": {},
   "outputs": [
    {
     "data": {
      "text/plain": [
       "datetime.datetime(2019, 4, 30, 18, 0)"
      ]
     },
     "execution_count": 8,
     "metadata": {},
     "output_type": "execute_result"
    }
   ],
   "source": [
    "datetime(2019, 4, 30, 14, 0) + d.timedelta(hours=4)"
   ]
  },
  {
   "cell_type": "code",
   "execution_count": 9,
   "metadata": {},
   "outputs": [],
   "source": [
    "label = np.zeros(len(temperature_info_list))\n",
    "time_index = [[] for i in range(len(feaver_time_interval))]\n",
    "\n",
    "for time in range(len(temperature_info_list)):\n",
    "    time_point = datetime.strptime(temperature_info_list[time][0],  \"%Y/%m/%d %H:%M:%S\")\n",
    "    \n",
    "    for t_i in range(1,len(feaver_time_interval)):\n",
    "        if (time_point >= feaver_time_interval[t_i][0]) & (time_point <= feaver_time_interval[t_i][1]):\n",
    "            label[time] = 1\n",
    "            time_index[t_i].append(time)\n",
    "#             if t_i == 2:\n",
    "#                 print(time_point)"
   ]
  },
  {
   "cell_type": "code",
   "execution_count": 10,
   "metadata": {},
   "outputs": [
    {
     "name": "stdout",
     "output_type": "stream",
     "text": [
      "0\n",
      "13280\n",
      "0\n",
      "0\n"
     ]
    }
   ],
   "source": [
    "for i in time_index:\n",
    "    print(len(i))"
   ]
  },
  {
   "cell_type": "code",
   "execution_count": 11,
   "metadata": {},
   "outputs": [
    {
     "data": {
      "text/plain": [
       "array([  10,   30,   60,  120,  180,  300,  600,  900, 1200, 1800])"
      ]
     },
     "execution_count": 11,
     "metadata": {},
     "output_type": "execute_result"
    }
   ],
   "source": [
    "time_zone = np.array([10,30,1*60,2*60,3*60,5*60,10*60,15*60,20*60,30*60])\n",
    "time_zone"
   ]
  },
  {
   "cell_type": "code",
   "execution_count": 12,
   "metadata": {},
   "outputs": [],
   "source": [
    "def moving_average(current_time, data, interval):\n",
    "    if current_time-interval < 0:\n",
    "        ma = np.mean(data[0:current_time+1])\n",
    "    else:\n",
    "        ma = np.mean(data[current_time-interval:current_time+1])\n",
    "    return ma"
   ]
  },
  {
   "cell_type": "code",
   "execution_count": 13,
   "metadata": {},
   "outputs": [],
   "source": [
    "X_pre_train = []\n",
    "for index in range(len(temperature)):\n",
    "    sub_data_arr = [datetime.strptime(temperature_info_list[index][0],  \"%Y/%m/%d %H:%M:%S\"), temperature_info_list[index][1]]\n",
    "    moving_in_time = []\n",
    "    for tz in time_zone:\n",
    "        moving_in_time.append(moving_average(index, temperature, tz))\n",
    "    sub_data_arr += moving_in_time\n",
    "    X_pre_train.append(sub_data_arr)"
   ]
  },
  {
   "cell_type": "code",
   "execution_count": 14,
   "metadata": {},
   "outputs": [
    {
     "data": {
      "text/plain": [
       "(637928, 12)"
      ]
     },
     "execution_count": 14,
     "metadata": {},
     "output_type": "execute_result"
    }
   ],
   "source": [
    "np.shape(X_pre_train)"
   ]
  },
  {
   "cell_type": "code",
   "execution_count": 15,
   "metadata": {},
   "outputs": [],
   "source": [
    "X = []\n",
    "for row in range(len(X_pre_train)):\n",
    "    sub_array = X_pre_train[row][0:2]\n",
    "    for column in range(1, len(X_pre_train[row])):\n",
    "        if row > 2:\n",
    "            first_deri = X_pre_train[row][column] - X_pre_train[row-1][column]\n",
    "            sec_deri = (X_pre_train[row][column] - 2*X_pre_train[row-1][column] - X_pre_train[row-2][column])/2\n",
    "            sub_array += [first_deri, sec_deri]\n",
    "            \n",
    "        elif (row > 1) & (row < 2):\n",
    "            first_deri = X_pre_train[row][column] - X_pre_train[row-1][column]\n",
    "            sec_deri = first_deri\n",
    "            sub_array += [first_deri, sec_deri]\n",
    "        \n",
    "        else:\n",
    "            sub_array += [X_pre_train[row][column], X_pre_train[row][column]]\n",
    "    X.append(sub_array)"
   ]
  },
  {
   "cell_type": "code",
   "execution_count": 16,
   "metadata": {},
   "outputs": [
    {
     "data": {
      "text/plain": [
       "(637928, 24)"
      ]
     },
     "execution_count": 16,
     "metadata": {},
     "output_type": "execute_result"
    }
   ],
   "source": [
    "np.shape(X)"
   ]
  },
  {
   "cell_type": "code",
   "execution_count": 17,
   "metadata": {},
   "outputs": [],
   "source": [
    "later_interval = np.array([5*60,10*60,15*60,20*60])"
   ]
  },
  {
   "cell_type": "code",
   "execution_count": 18,
   "metadata": {},
   "outputs": [],
   "source": [
    "predict_interval = np.copy(later_interval)"
   ]
  },
  {
   "cell_type": "code",
   "execution_count": 19,
   "metadata": {},
   "outputs": [
    {
     "data": {
      "text/plain": [
       "(43145, 56424)"
      ]
     },
     "execution_count": 19,
     "metadata": {},
     "output_type": "execute_result"
    }
   ],
   "source": [
    "trainning_index = [time_index[1]]\n",
    "trainning_index[0][0], trainning_index[0][-1]"
   ]
  },
  {
   "cell_type": "code",
   "execution_count": 20,
   "metadata": {},
   "outputs": [
    {
     "data": {
      "text/plain": [
       "(637928, 24)"
      ]
     },
     "execution_count": 20,
     "metadata": {},
     "output_type": "execute_result"
    }
   ],
   "source": [
    "np.shape(X)"
   ]
  },
  {
   "cell_type": "code",
   "execution_count": 21,
   "metadata": {},
   "outputs": [
    {
     "data": {
      "text/plain": [
       "34879"
      ]
     },
     "execution_count": 21,
     "metadata": {},
     "output_type": "execute_result"
    }
   ],
   "source": [
    "X = np.array(X)\n",
    "len(X[43145-4*60*60:56424+2*60*60])"
   ]
  },
  {
   "cell_type": "code",
   "execution_count": 22,
   "metadata": {},
   "outputs": [],
   "source": [
    "X_train = []\n",
    "y_train = []\n",
    "X_cp = np.copy(X)\n",
    "for t_interval in trainning_index:\n",
    "    start_t = t_interval[0]\n",
    "    end_t = t_interval[-1]\n",
    "    for t in range(start_t-2*60*60, end_t+2*60*60): #發燒前4小時，發燒後2hr\n",
    "#         if ((datetime.strptime(temperature_info_list[t][0],  \"%Y/%m/%d %H:%M:%S\") - datetime.strptime(temperature_info_list[start_t][0],  \"%Y/%m/%d %H:%M:%S\")) < d.timedelta(hours=-4))&((datetime.strptime(temperature_info_list[t][0],  \"%Y/%m/%d %H:%M:%S\") - datetime.strptime(temperature_info_list[end_t][0],  \"%Y/%m/%d %H:%M:%S\")) < d.timedelta(hours=2)):\n",
    "        X_train.append(X_cp[t])\n",
    "            \n",
    "        y_sub_train = []\n",
    "            \n",
    "        for interval in later_interval:#之後的多少時間\n",
    "            y_sub_train_interval = []\n",
    "            for predict in predict_interval:\n",
    "                y = 0\n",
    "                if np.sum(label[t+interval:t+interval+predict]) > 0:\n",
    "                    y = 1\n",
    "                y_sub_train_interval.append(y) \n",
    "            y_sub_train.append(y_sub_train_interval)\n",
    "            \n",
    "        y_train.append(y_sub_train)    \n",
    "        \n"
   ]
  },
  {
   "cell_type": "code",
   "execution_count": 23,
   "metadata": {},
   "outputs": [
    {
     "data": {
      "text/plain": [
       "27679"
      ]
     },
     "execution_count": 23,
     "metadata": {},
     "output_type": "execute_result"
    }
   ],
   "source": [
    "len(y_train)"
   ]
  },
  {
   "cell_type": "code",
   "execution_count": 24,
   "metadata": {},
   "outputs": [
    {
     "data": {
      "text/plain": [
       "13579"
      ]
     },
     "execution_count": 24,
     "metadata": {},
     "output_type": "execute_result"
    }
   ],
   "source": [
    "np.sum(np.array(y_train)[:,0,0])"
   ]
  },
  {
   "cell_type": "code",
   "execution_count": 25,
   "metadata": {},
   "outputs": [
    {
     "name": "stdout",
     "output_type": "stream",
     "text": [
      "2019-05-01 10:00:00\n"
     ]
    }
   ],
   "source": [
    "print(datetime.strptime(temperature_info_list[start_t][0],  \"%Y/%m/%d %H:%M:%S\"))"
   ]
  },
  {
   "cell_type": "code",
   "execution_count": 26,
   "metadata": {},
   "outputs": [],
   "source": [
    "# for t_interval in [testing_index]:\n",
    "#     start_t = t_interval[0]\n",
    "#     print(datetime.strptime(temperature_info_list[start_t][0], \"%m/%d/%y%H:%M\"))\n",
    "#     end_t = t_interval[-1]\n",
    "#     for t in range(start_t-4*60*60, end_t+1*60*60): #發燒前4小時，發燒後2hr\n",
    "# #         print(datetime.strptime(temperature_info_list[t][0], \"%m/%d/%y%H:%M\"))\n",
    "        \n",
    "#         if ((datetime.strptime(temperature_info_list[t][0], \"%m/%d/%y%H:%M\") - datetime.strptime(temperature_info_list[start_t][0], \"%m/%d/%y%H:%M\")) < d.timedelta(hours=-4))&((datetime.strptime(temperature_info_list[t][0], \"%m/%d/%y%H:%M\") - datetime.strptime(temperature_info_list[end_t][0], \"%m/%d/%y%H:%M\")) < d.timedelta(hours=-2)):\n",
    "            \n",
    "#             X_test.append(X[t])\n",
    "            \n",
    "#             y_sub_test = []\n",
    "            \n",
    "#             for interval in later_interval:#之後的多少時間\n",
    "#                 y_sub_test_interval = []\n",
    "#                 for predict in predict_interval:\n",
    "#                     y = 0\n",
    "#                     if np.sum(label[t+interval:t+interval+predict]) > 0:\n",
    "#                         y = 1\n",
    "#                     y_sub_test_interval.append(y) \n",
    "#                 y_sub_test.append(y_sub_test_interval)\n",
    "            \n",
    "#             y_test.append(y_sub_test)\n",
    "        "
   ]
  },
  {
   "cell_type": "code",
   "execution_count": 27,
   "metadata": {},
   "outputs": [
    {
     "data": {
      "text/plain": [
       "(27679, 14479)"
      ]
     },
     "execution_count": 27,
     "metadata": {},
     "output_type": "execute_result"
    }
   ],
   "source": [
    "len(X_train), np.sum(np.array(y_train)[:,2,3])\n"
   ]
  },
  {
   "cell_type": "markdown",
   "metadata": {},
   "source": [
    "Y 的資料型態是 (N sample, M 未來多少時間, K 多少區間時間)\n",
    "\n",
    "N sample\n",
    "\n",
    "未來在 5，10，15，20分鐘\n",
    "\n",
    "各5，10，15，20分鐘 區間發燒情況\n",
    "\n",
    "現在考慮5分後，5分區間內發燒狀況"
   ]
  },
  {
   "cell_type": "code",
   "execution_count": 28,
   "metadata": {},
   "outputs": [],
   "source": [
    "def ROC(predict, true):\n",
    "    TP = TN = FN = FP = 0\n",
    "    for index in range(len(predict)):\n",
    "        if (predict[index] == 1) & (true[index] == 1):\n",
    "            TP += 1\n",
    "        elif (predict[index] == 1) & (true[index] == 0):\n",
    "            FP += 1\n",
    "        elif (predict[index] == 0) & (true[index] == 0):\n",
    "            TN += 1\n",
    "        elif (predict[index] == 0) & (true[index] == 1):\n",
    "            FN += 1\n",
    "    return [TP, TN, FP, FN]"
   ]
  },
  {
   "cell_type": "markdown",
   "metadata": {},
   "source": [
    "只做未來5分鐘的"
   ]
  },
  {
   "cell_type": "code",
   "execution_count": 29,
   "metadata": {},
   "outputs": [],
   "source": [
    "# def predict(X, y):\n",
    "#     data_list = np.array(np.copy(X)) #m samples, n factors\n",
    "#     import itertools\n",
    "#     criteri_list= list(itertools.product(*data_list.T))\n",
    "#     ROC = []\n",
    "#     for criteria in criteri_list:\n",
    "#         for data in range(len(data_list)):\n",
    "#             result = np.sum((data_list[data]>criteria).astype(int))\n",
    "            \n",
    "#             TP = TN = FN = FP = 0\n",
    "#             if (result == len(data)) & (data == 1):\n",
    "#                 TP += 1\n",
    "#             elif (result == len(data)) & (data == 0):\n",
    "#                 FP += 1\n",
    "#             elif (result != len(data)) & (data == 0):\n",
    "#                 TN += 1\n",
    "#             elif (result != len(data)) & (data == 1):\n",
    "#                 FN += 1 \n",
    "#         ROC.append([TP, FP, TN, FN])\n",
    "#     return ROC"
   ]
  },
  {
   "cell_type": "code",
   "execution_count": 30,
   "metadata": {},
   "outputs": [
    {
     "data": {
      "text/plain": [
       "array([0, 0, 0, ..., 0, 0, 0])"
      ]
     },
     "execution_count": 30,
     "metadata": {},
     "output_type": "execute_result"
    }
   ],
   "source": [
    "np.array(y_train)[:,1,0]"
   ]
  },
  {
   "cell_type": "code",
   "execution_count": null,
   "metadata": {},
   "outputs": [],
   "source": [
    "\n",
    "        "
   ]
  },
  {
   "cell_type": "code",
   "execution_count": 31,
   "metadata": {},
   "outputs": [],
   "source": [
    "from sklearn.linear_model import LogisticRegression\n",
    "X_data, y = np.array(X_train)[:, 1:], np.array(y_train)[:,2,3]\n",
    "clf = LogisticRegression(random_state=0, solver='lbfgs').fit(X_data, y)"
   ]
  },
  {
   "cell_type": "code",
   "execution_count": 32,
   "metadata": {},
   "outputs": [],
   "source": [
    "[TP, TN, FP, FN] = ROC(clf.predict(X_data), y)\n",
    "TPR = TP / (TP+FN)\n",
    "FPR = FP / (FP + TN)"
   ]
  },
  {
   "cell_type": "code",
   "execution_count": 33,
   "metadata": {},
   "outputs": [
    {
     "data": {
      "text/plain": [
       "[12605, 8042, 5158, 1874]"
      ]
     },
     "execution_count": 33,
     "metadata": {},
     "output_type": "execute_result"
    }
   ],
   "source": [
    "[TP, TN, FP, FN]"
   ]
  },
  {
   "cell_type": "code",
   "execution_count": 34,
   "metadata": {},
   "outputs": [
    {
     "data": {
      "text/plain": [
       "0.8705711720422681"
      ]
     },
     "execution_count": 34,
     "metadata": {},
     "output_type": "execute_result"
    }
   ],
   "source": [
    "TPR"
   ]
  },
  {
   "cell_type": "code",
   "execution_count": 35,
   "metadata": {},
   "outputs": [
    {
     "data": {
      "text/plain": [
       "0.39075757575757575"
      ]
     },
     "execution_count": 35,
     "metadata": {},
     "output_type": "execute_result"
    }
   ],
   "source": [
    "FPR"
   ]
  },
  {
   "cell_type": "code",
   "execution_count": null,
   "metadata": {},
   "outputs": [],
   "source": []
  }
 ],
 "metadata": {
  "kernelspec": {
   "display_name": "Python 3",
   "language": "python",
   "name": "python3"
  },
  "language_info": {
   "codemirror_mode": {
    "name": "ipython",
    "version": 3
   },
   "file_extension": ".py",
   "mimetype": "text/x-python",
   "name": "python",
   "nbconvert_exporter": "python",
   "pygments_lexer": "ipython3",
   "version": "3.7.3"
  }
 },
 "nbformat": 4,
 "nbformat_minor": 4
}
