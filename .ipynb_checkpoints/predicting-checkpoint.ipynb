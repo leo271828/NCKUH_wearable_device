{
 "cells": [
  {
   "cell_type": "code",
   "execution_count": 1,
   "metadata": {},
   "outputs": [],
   "source": [
    "import numpy as np\n",
    "import pandas as pd\n",
    "from datetime import datetime\n",
    "import datetime as d"
   ]
  },
  {
   "cell_type": "code",
   "execution_count": 2,
   "metadata": {},
   "outputs": [],
   "source": [
    "PATH = \"/home/math/NCKU_H/33_patient_f/\"\n",
    "temp_df = pd.read_csv(PATH+'33_temp_after_proce.csv', header = 0)\n",
    "temp_df[['date']] = temp_df['date']+temp_df['time']\n",
    "temp_df = temp_df.drop(['time'], axis = 1)\n",
    "temperature_info_list = temp_df.values\n",
    "nurse_info_list = pd.read_csv(PATH+'33_nurse.csv', header = 0).values"
   ]
  },
  {
   "cell_type": "code",
   "execution_count": 3,
   "metadata": {},
   "outputs": [],
   "source": [
    "temperature = temperature_info_list[:,1]"
   ]
  },
  {
   "cell_type": "code",
   "execution_count": 4,
   "metadata": {},
   "outputs": [],
   "source": [
    "feaver_time_interval = []\n",
    "for index in range(len(nurse_info_list)):\n",
    "    if nurse_info_list[index][1]>38:\n",
    "        feaver_time_interval.append([datetime.strptime(nurse_info_list[index][0],  \"%m/%d/%y %H:%M:%S\")])\n",
    "        for time_idx in range(index, len(nurse_info_list)):\n",
    "            if nurse_info_list[time_idx][1]<38:\n",
    "                feaver_time_interval[-1].append(datetime.strptime(nurse_info_list[time_idx][0],  \"%m/%d/%y %H:%M:%S\"))\n",
    "                break"
   ]
  },
  {
   "cell_type": "code",
   "execution_count": 5,
   "metadata": {},
   "outputs": [
    {
     "data": {
      "text/plain": [
       "[[datetime.datetime(2019, 4, 30, 14, 0),\n",
       "  datetime.datetime(2019, 4, 30, 18, 14)],\n",
       " [datetime.datetime(2019, 5, 1, 10, 0), datetime.datetime(2019, 5, 1, 14, 8)],\n",
       " [datetime.datetime(2019, 5, 5, 22, 0), datetime.datetime(2019, 5, 6, 2, 0)],\n",
       " [datetime.datetime(2019, 5, 8, 18, 29), datetime.datetime(2019, 5, 8, 21, 0)]]"
      ]
     },
     "execution_count": 5,
     "metadata": {},
     "output_type": "execute_result"
    }
   ],
   "source": [
    "feaver_time_interval"
   ]
  },
  {
   "cell_type": "code",
   "execution_count": 6,
   "metadata": {},
   "outputs": [
    {
     "data": {
      "text/plain": [
       "datetime.datetime(2019, 4, 30, 18, 0)"
      ]
     },
     "execution_count": 6,
     "metadata": {},
     "output_type": "execute_result"
    }
   ],
   "source": [
    "datetime(2019, 4, 30, 14, 0) + d.timedelta(hours=4)"
   ]
  },
  {
   "cell_type": "code",
   "execution_count": 7,
   "metadata": {},
   "outputs": [],
   "source": [
    "label = np.zeros(len(temperature_info_list))\n",
    "time_index = [[] for i in range(len(feaver_time_interval))]\n",
    "\n",
    "for time in range(len(temperature_info_list)):\n",
    "    time_point = datetime.strptime(temperature_info_list[time][0],  \"%m/%d/%y%H:%M\")\n",
    "    \n",
    "    for t_i in range(1,len(feaver_time_interval)):\n",
    "        if (time_point >= feaver_time_interval[t_i][0]) & (time_point <= feaver_time_interval[t_i][1]):\n",
    "            label[time] = 1\n",
    "            time_index[t_i].append(time)"
   ]
  },
  {
   "cell_type": "code",
   "execution_count": 8,
   "metadata": {},
   "outputs": [
    {
     "data": {
      "text/plain": [
       "4"
      ]
     },
     "execution_count": 8,
     "metadata": {},
     "output_type": "execute_result"
    }
   ],
   "source": [
    "len(time_index)"
   ]
  },
  {
   "cell_type": "code",
   "execution_count": 9,
   "metadata": {},
   "outputs": [
    {
     "data": {
      "text/plain": [
       "array([  10,   30,   60,  120,  180,  300,  600,  900, 1200, 1800])"
      ]
     },
     "execution_count": 9,
     "metadata": {},
     "output_type": "execute_result"
    }
   ],
   "source": [
    "time_zone = np.array([10,30,1*60,2*60,3*60,5*60,10*60,15*60,20*60,30*60])\n",
    "time_zone"
   ]
  },
  {
   "cell_type": "code",
   "execution_count": 10,
   "metadata": {},
   "outputs": [],
   "source": [
    "def moving_average(current_time, data, interval):\n",
    "    if current_time-interval < 0:\n",
    "        ma = np.mean(data[0:current_time+1])\n",
    "    else:\n",
    "        ma = np.mean(data[current_time-interval:current_time+1])\n",
    "    return ma"
   ]
  },
  {
   "cell_type": "code",
   "execution_count": 12,
   "metadata": {},
   "outputs": [],
   "source": [
    "X_pre_train = []\n",
    "for index in range(len(temperature)):\n",
    "    sub_data_arr = [datetime.strptime(temperature_info_list[index][0],  \"%m/%d/%y%H:%M\"), temperature_info_list[index][1]]\n",
    "    moving_in_time = []\n",
    "    for tz in time_zone:\n",
    "        moving_in_time.append(moving_average(index, temperature, tz))\n",
    "    sub_data_arr += moving_in_time\n",
    "    X_pre_train.append(sub_data_arr)"
   ]
  },
  {
   "cell_type": "code",
   "execution_count": 14,
   "metadata": {},
   "outputs": [],
   "source": [
    "X = []\n",
    "for row in range(len(X_pre_train)):\n",
    "    sub_array = X_pre_train[row][0:2]\n",
    "    for column in range(1, len(X_pre_train[row])):\n",
    "        if row > 2:\n",
    "            first_deri = X_pre_train[row][column] - X_pre_train[row-1][column]\n",
    "            sec_deri = (X_pre_train[row][column] - 2*X_pre_train[row-1][column] - X_pre_train[row-2][column])/2\n",
    "            sub_array += [first_deri, sec_deri]\n",
    "            \n",
    "        elif (row > 1) & (row < 2):\n",
    "            first_deri = X_pre_train[row][column] - X_pre_train[row-1][column]\n",
    "            sec_deri = first_deri\n",
    "            sub_array += [first_deri, sec_deri]\n",
    "        \n",
    "        else:\n",
    "            sub_array += [X_pre_train[row][column], X_pre_train[row][column]]\n",
    "    X.append(sub_array)"
   ]
  },
  {
   "cell_type": "code",
   "execution_count": 15,
   "metadata": {},
   "outputs": [],
   "source": [
    "later_interval = np.array([5*60,10*60,15*60,20*60])"
   ]
  },
  {
   "cell_type": "code",
   "execution_count": 16,
   "metadata": {},
   "outputs": [],
   "source": [
    "predict_interval = np.copy(later_interval)"
   ]
  },
  {
   "cell_type": "code",
   "execution_count": 17,
   "metadata": {},
   "outputs": [],
   "source": [
    "trainning_index = time_index[1:3]\n",
    "predict_index = time_index[3]"
   ]
  },
  {
   "cell_type": "code",
   "execution_count": 18,
   "metadata": {},
   "outputs": [],
   "source": [
    "X_train = []\n",
    "y_train = []\n",
    "for t_interval in trainning_index:\n",
    "    start_t = t_interval[0]\n",
    "    end_t = t_interval[-1]\n",
    "    for t in range(start_t-4*60*60, end_t+2*60*60): #發燒前4小時，發燒後2hr\n",
    "        if ((datetime.strptime(temperature_info_list[t][0], \"%m/%d/%y%H:%M\") - datetime.strptime(temperature_info_list[start_t][0], \"%m/%d/%y%H:%M\")) < d.timedelta(hours=4))&((datetime.strptime(temperature_info_list[t][0], \"%m/%d/%y%H:%M\") - datetime.strptime(temperature_info_list[end_t][0], \"%m/%d/%y%H:%M\")) < d.timedelta(hours=-2)):\n",
    "            X_train.append(X_pre_train[t])\n",
    "            \n",
    "            y_sub_train = []\n",
    "            \n",
    "            for interval in later_interval:#之後的多少時間\n",
    "                y_sub_train_interval = []\n",
    "                for predict in predict_interval:\n",
    "                    y = 0\n",
    "                    if np.sum(label[t+interval:t+interval+predict]) > 0:\n",
    "                        y = 1\n",
    "                    y_sub_train_interval.append(y) \n",
    "                y_sub_train.append(y_sub_train_interval)\n",
    "            \n",
    "            y_train.append(y_sub_train)\n",
    "        \n"
   ]
  },
  {
   "cell_type": "markdown",
   "metadata": {},
   "source": [
    "Y 的資料型態是 (N sample, M 未來多少時間, K 多少區間時間)\n",
    "\n",
    "N sample\n",
    "\n",
    "未來在 5，10，15，20分鐘\n",
    "\n",
    "各5，10，15，20分鐘 區間發燒情況\n",
    "\n",
    "現在考慮5分後，5分區間內發燒狀況"
   ]
  },
  {
   "cell_type": "code",
   "execution_count": 19,
   "metadata": {},
   "outputs": [],
   "source": [
    "def ROC(predict, true):\n",
    "    TP = TN = FN = FP = 0\n",
    "    for index in range(len(predict)):\n",
    "        if (predict[index] == 1) & (true[index] == 1):\n",
    "            TP += 1\n",
    "        elif (predict[index] == 1) & (true[index] == 0):\n",
    "            FP += 1\n",
    "        elif (predict[index] == 0) & (true[index] == 0):\n",
    "            TN += 1\n",
    "        elif (predict[index] == 0) & (true[index] == 1):\n",
    "            FN += 1\n",
    "    return [TP, TN, FP, FN]"
   ]
  },
  {
   "cell_type": "markdown",
   "metadata": {},
   "source": [
    "只做未來5分鐘的"
   ]
  },
  {
   "cell_type": "code",
   "execution_count": 53,
   "metadata": {},
   "outputs": [
    {
     "ename": "SyntaxError",
     "evalue": "invalid syntax (<ipython-input-53-c129de69f604>, line 5)",
     "output_type": "error",
     "traceback": [
      "\u001b[0;36m  File \u001b[0;32m\"<ipython-input-53-c129de69f604>\"\u001b[0;36m, line \u001b[0;32m5\u001b[0m\n\u001b[0;31m    for i in\u001b[0m\n\u001b[0m             ^\u001b[0m\n\u001b[0;31mSyntaxError\u001b[0m\u001b[0;31m:\u001b[0m invalid syntax\n"
     ]
    }
   ],
   "source": [
    "def predict(X, y):\n",
    "    data_list = np.array(np.copy(X)) #m samples, n factors\n",
    "    import itertools\n",
    "    criteri_list= list(itertools.product(*data_list.T))\n",
    "    for data in data_list:\n",
    "        for criteria in criteri_list:\n",
    "            result = np.sum((data>criteria).astype(int))\n",
    "            if (result == len(data))&\n",
    "\n",
    "    "
   ]
  },
  {
   "cell_type": "code",
   "execution_count": 21,
   "metadata": {},
   "outputs": [
    {
     "ename": "SyntaxError",
     "evalue": "invalid syntax (<ipython-input-21-a09b330b7f59>, line 1)",
     "output_type": "error",
     "traceback": [
      "\u001b[0;36m  File \u001b[0;32m\"<ipython-input-21-a09b330b7f59>\"\u001b[0;36m, line \u001b[0;32m1\u001b[0m\n\u001b[0;31m    for feature in range(len(y_train[0]): 未來多少時間\u001b[0m\n\u001b[0m                                        ^\u001b[0m\n\u001b[0;31mSyntaxError\u001b[0m\u001b[0;31m:\u001b[0m invalid syntax\n"
     ]
    }
   ],
   "source": [
    "for feature in range(len(y_train[0]): 未來多少時間\n",
    "    for interval_t in range(len(y_train[0][0])): 未來多少時間開始幾分鐘\n",
    "        "
   ]
  },
  {
   "cell_type": "code",
   "execution_count": null,
   "metadata": {},
   "outputs": [],
   "source": [
    "a = np.array([1,2,3,5,6,5])\n",
    "b = np.array([1.5,2,3,4,6,4.5])\n",
    "a>b"
   ]
  },
  {
   "cell_type": "code",
   "execution_count": 22,
   "metadata": {},
   "outputs": [],
   "source": [
    "a = np.arange(9).reshape((3,3))"
   ]
  },
  {
   "cell_type": "code",
   "execution_count": 33,
   "metadata": {},
   "outputs": [
    {
     "data": {
      "text/plain": [
       "[[0, 1, 2], [3, 4, 5], [6, 7, 8]]"
      ]
     },
     "execution_count": 33,
     "metadata": {},
     "output_type": "execute_result"
    }
   ],
   "source": [
    "\n",
    "a = np.array(a).tolist()\n",
    "a"
   ]
  },
  {
   "cell_type": "code",
   "execution_count": null,
   "metadata": {},
   "outputs": [],
   "source": [
    "\n"
   ]
  },
  {
   "cell_type": "code",
   "execution_count": 50,
   "metadata": {},
   "outputs": [
    {
     "name": "stdout",
     "output_type": "stream",
     "text": [
      "[(0, 3, 6), (0, 3, 7), (0, 3, 8), (0, 4, 6), (0, 4, 7), (0, 4, 8), (0, 5, 6), (0, 5, 7), (0, 5, 8), (1, 3, 6), (1, 3, 7), (1, 3, 8), (1, 4, 6), (1, 4, 7), (1, 4, 8), (1, 5, 6), (1, 5, 7), (1, 5, 8), (2, 3, 6), (2, 3, 7), (2, 3, 8), (2, 4, 6), (2, 4, 7), (2, 4, 8), (2, 5, 6), (2, 5, 7), (2, 5, 8)]\n"
     ]
    }
   ],
   "source": [
    "import itertools\n",
    "\n",
    "\n",
    "\n",
    "print(list(itertools.product(*a)))"
   ]
  },
  {
   "cell_type": "code",
   "execution_count": null,
   "metadata": {},
   "outputs": [],
   "source": []
  },
  {
   "cell_type": "code",
   "execution_count": null,
   "metadata": {},
   "outputs": [],
   "source": []
  },
  {
   "cell_type": "code",
   "execution_count": null,
   "metadata": {},
   "outputs": [],
   "source": []
  }
 ],
 "metadata": {
  "kernelspec": {
   "display_name": "Python 3",
   "language": "python",
   "name": "python3"
  },
  "language_info": {
   "codemirror_mode": {
    "name": "ipython",
    "version": 3
   },
   "file_extension": ".py",
   "mimetype": "text/x-python",
   "name": "python",
   "nbconvert_exporter": "python",
   "pygments_lexer": "ipython3",
   "version": "3.7.3"
  }
 },
 "nbformat": 4,
 "nbformat_minor": 4
}
