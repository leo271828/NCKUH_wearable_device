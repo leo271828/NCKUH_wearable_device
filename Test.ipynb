{
 "cells": [
  {
   "cell_type": "code",
   "execution_count": 8,
   "metadata": {},
   "outputs": [],
   "source": [
    "import pandas as pd\n",
    "import numpy as np\n",
    "import datetime as dt\n",
    "import matplotlib.pyplot as plt\n",
    "import shutil\n",
    "import os\n",
    "import csv"
   ]
  },
  {
   "cell_type": "code",
   "execution_count": 9,
   "metadata": {},
   "outputs": [],
   "source": [
    "# 請分別輸入病人csv檔案,時間間隔,開始時間\n",
    "# 檔案名稱請附上結尾.csv\n",
    "# 時間間隔單位為分鐘\n",
    "# 開始時間預定為早上8.\n",
    "# ex : visualization('01A5.csv', 30)\n",
    "\n",
    "def visualization(file, time_step, start=8):\n",
    "    df = pd.read_csv(file, header = None)\n",
    "    df[0] = [dt.datetime.strptime(i, '%Y/%m/%d').date() for i in df[0].values]\n",
    "    df[1] = [dt.datetime.strptime(i, '%H:%M:%S').time() for i in df[1].values]\n",
    "    date_list = np.sort(list(dict.fromkeys(df[0].values)))\n",
    "    \n",
    "    today_date = date_list[-1] # 定義今天時間\n",
    "    time_zone = file[:4] + '_' + str(today_date) + ' box plot' \n",
    "    \n",
    "    date = df[0].values\n",
    "    d_filter = (date>=today_date)&(date<today_date+datetime.timedelta(days = 1))\n",
    "    \n",
    "    data = (df[3].values)[d_filter]/100 # each date\n",
    "    time = (df[1].values)[d_filter] # each hour\n",
    "   \n",
    "    start_datetime = datetime.datetime.combine(today_date, datetime.time(start,0))\n",
    "    end_datetime = datetime.datetime.combine(today_date, time[-1])\n",
    "    datetime_list = [(start_datetime+i*datetime.timedelta(minutes = time_step)) for i in range(int(np.floor((end_datetime-start_datetime)/datetime.timedelta(minutes = time_step))))]\n",
    "    \n",
    "    each_hour = []\n",
    "    for t_idx in range(len(datetime_list)):\n",
    "        t_filter = (time>=datetime_list[t_idx].time()) & (time<(datetime_list[t_idx]+datetime.timedelta(minutes = time_step)).time())\n",
    "        tmp = data[(t_filter)&(data>25)&(data<45)]\n",
    "        each_hour.append(tmp)\n",
    "\n",
    "    sick_hour, sick_tmp = read_tmp_to_list('01A5_ear.csv', today_date, datetime.time(start, 0), time_step, 34)\n",
    "    \n",
    "    plt.figure(figsize = (10,5))\n",
    "    plt.boxplot(each_hour, flierprops  = dict(markerfacecolor = 'b', marker = '.'))\n",
    "    baseline = plt.plot(np.linspace(1, time_step, time_step), [35 for i in range(time_step)], 'g:')\n",
    "    sick_points = plt.scatter(sick_hour, sick_tmp,  marker = 'D', color='r' )\n",
    "    \n",
    "    l1 = plt.legend(baseline, ['baseline'], loc='lower right')\n",
    "    plt.legend([sick_points], ['sick points'], loc='upper right')\n",
    "    plt.gca().add_artist(l1)\n",
    "\n",
    "    time_tag = [datetime.datetime.strftime(i, \"%H:%M\") for i in datetime_list]\n",
    "    plt.xticks(np.linspace(1, time_step, time_step), time_tag, rotation='vertical')\n",
    "    plt.xlabel('Hours')\n",
    "    plt.ylabel('Temperature')\n",
    "    plt.suptitle(time_zone)\n",
    "#     plt.savefig( time_zone + '.png', dpi = 300)\n",
    "    plt.show()\n"
   ]
  },
  {
   "cell_type": "code",
   "execution_count": 10,
   "metadata": {},
   "outputs": [],
   "source": [
    "# 讀取耳溫量測表的資料 在主程式會用到\n",
    "\n",
    "def read_tmp_to_list(file, today_date, today_start_time, time_step, warning_cri = 37):\n",
    "    \n",
    "    df = pd.read_csv(file, header = None, skiprows=1)\n",
    "    df[0] = [dt.datetime.strptime(i, '%Y-%m-%d').date() for i in df[0].values]\n",
    "    df[1] = [dt.datetime.strptime(i, '%H:%M').time() for i in df[1].values]\n",
    "    if (type(today_date ) != datetime.date) | (type(today_start_time) != datetime.time):\n",
    "        print(\"ERROR DATA TYPE\")\n",
    "        return 0\n",
    "    else:\n",
    "        today_datetime = datetime.datetime.combine(today_date, today_start_time)\n",
    "\n",
    "    df_ear_warn = df[(df[2]>warning_cri)&(df[0]==today_date)&(df[1]>=today_start_time)]\n",
    "    \n",
    "    df_ear_warn[1] = [np.floor((datetime.datetime.combine(today_date, i)-today_datetime)/datetime.timedelta(minutes = time_step)) for i in df_ear_warn[1].values]\n",
    "    \n",
    "    return 1+df_ear_warn[1].values, df_ear_warn[2].values"
   ]
  },
  {
   "cell_type": "code",
   "execution_count": 11,
   "metadata": {},
   "outputs": [
    {
     "name": "stderr",
     "output_type": "stream",
     "text": [
      "ERROR:root:Internal Python error in the inspect module.\n",
      "Below is the traceback from this internal error.\n",
      "\n"
     ]
    },
    {
     "name": "stdout",
     "output_type": "stream",
     "text": [
      "Traceback (most recent call last):\n",
      "  File \"/home/math/anaconda3/lib/python3.7/site-packages/IPython/core/interactiveshell.py\", line 3325, in run_code\n",
      "    exec(code_obj, self.user_global_ns, self.user_ns)\n",
      "  File \"<ipython-input-11-b654dce33541>\", line 3, in <module>\n",
      "    visualization( '01A5.csv', 30 )\n",
      "  File \"<ipython-input-9-5134fd6cb6dd>\", line 8, in visualization\n",
      "    df = pd.read_csv(file, header = None)\n",
      "  File \"/home/math/anaconda3/lib/python3.7/site-packages/pandas/io/parsers.py\", line 702, in parser_f\n",
      "    return _read(filepath_or_buffer, kwds)\n",
      "  File \"/home/math/anaconda3/lib/python3.7/site-packages/pandas/io/parsers.py\", line 429, in _read\n",
      "    parser = TextFileReader(filepath_or_buffer, **kwds)\n",
      "  File \"/home/math/anaconda3/lib/python3.7/site-packages/pandas/io/parsers.py\", line 895, in __init__\n",
      "    self._make_engine(self.engine)\n",
      "  File \"/home/math/anaconda3/lib/python3.7/site-packages/pandas/io/parsers.py\", line 1122, in _make_engine\n",
      "    self._engine = CParserWrapper(self.f, **self.options)\n",
      "  File \"/home/math/anaconda3/lib/python3.7/site-packages/pandas/io/parsers.py\", line 1853, in __init__\n",
      "    self._reader = parsers.TextReader(src, **kwds)\n",
      "  File \"pandas/_libs/parsers.pyx\", line 387, in pandas._libs.parsers.TextReader.__cinit__\n",
      "  File \"pandas/_libs/parsers.pyx\", line 705, in pandas._libs.parsers.TextReader._setup_parser_source\n",
      "FileNotFoundError: [Errno 2] File b'01A5.csv' does not exist: b'01A5.csv'\n",
      "\n",
      "During handling of the above exception, another exception occurred:\n",
      "\n",
      "Traceback (most recent call last):\n",
      "  File \"/home/math/anaconda3/lib/python3.7/site-packages/IPython/core/interactiveshell.py\", line 2039, in showtraceback\n",
      "    stb = value._render_traceback_()\n",
      "AttributeError: 'FileNotFoundError' object has no attribute '_render_traceback_'\n",
      "\n",
      "During handling of the above exception, another exception occurred:\n",
      "\n",
      "Traceback (most recent call last):\n",
      "  File \"/home/math/anaconda3/lib/python3.7/site-packages/IPython/core/ultratb.py\", line 1101, in get_records\n",
      "    return _fixed_getinnerframes(etb, number_of_lines_of_context, tb_offset)\n",
      "  File \"/home/math/anaconda3/lib/python3.7/site-packages/IPython/core/ultratb.py\", line 319, in wrapped\n",
      "    return f(*args, **kwargs)\n",
      "  File \"/home/math/anaconda3/lib/python3.7/site-packages/IPython/core/ultratb.py\", line 353, in _fixed_getinnerframes\n",
      "    records = fix_frame_records_filenames(inspect.getinnerframes(etb, context))\n",
      "  File \"/home/math/anaconda3/lib/python3.7/inspect.py\", line 1502, in getinnerframes\n",
      "    frameinfo = (tb.tb_frame,) + getframeinfo(tb, context)\n",
      "  File \"/home/math/anaconda3/lib/python3.7/inspect.py\", line 1460, in getframeinfo\n",
      "    filename = getsourcefile(frame) or getfile(frame)\n",
      "  File \"/home/math/anaconda3/lib/python3.7/inspect.py\", line 696, in getsourcefile\n",
      "    if getattr(getmodule(object, filename), '__loader__', None) is not None:\n",
      "  File \"/home/math/anaconda3/lib/python3.7/inspect.py\", line 725, in getmodule\n",
      "    file = getabsfile(object, _filename)\n",
      "  File \"/home/math/anaconda3/lib/python3.7/inspect.py\", line 709, in getabsfile\n",
      "    return os.path.normcase(os.path.abspath(_filename))\n",
      "  File \"/home/math/anaconda3/lib/python3.7/posixpath.py\", line 383, in abspath\n",
      "    cwd = os.getcwd()\n",
      "FileNotFoundError: [Errno 2] No such file or directory\n"
     ]
    },
    {
     "ename": "FileNotFoundError",
     "evalue": "[Errno 2] File b'01A5.csv' does not exist: b'01A5.csv'",
     "output_type": "error",
     "traceback": [
      "\u001b[0;31m---------------------------------------------------------------------------\u001b[0m"
     ]
    }
   ],
   "source": [
    "# 範例執行方式 :\n",
    "\n",
    "visualization( '01A5.csv', 30 )"
   ]
  },
  {
   "cell_type": "code",
   "execution_count": null,
   "metadata": {},
   "outputs": [],
   "source": []
  }
 ],
 "metadata": {
  "kernelspec": {
   "display_name": "Python 3",
   "language": "python",
   "name": "python3"
  },
  "language_info": {
   "codemirror_mode": {
    "name": "ipython",
    "version": 3
   },
   "file_extension": ".py",
   "mimetype": "text/x-python",
   "name": "python",
   "nbconvert_exporter": "python",
   "pygments_lexer": "ipython3",
   "version": "3.7.3"
  }
 },
 "nbformat": 4,
 "nbformat_minor": 4
}
