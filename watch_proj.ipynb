{
 "cells": [
  {
   "cell_type": "code",
   "execution_count": 1,
   "metadata": {},
   "outputs": [],
   "source": [
    "import requests\n",
    "# import selenium \n",
    "import wget\n",
    "import os\n",
    "import sys\n",
    "import pandas as pd\n",
    "import datetime\n",
    "import numpy as np\n",
    "import matplotlib.pyplot as plt\n",
    "# from scipy.ndimage.filters import gaussian_filter1d\n",
    "# from scipy.ndimage import gaussian_filter"
   ]
  },
  {
   "cell_type": "code",
   "execution_count": 2,
   "metadata": {},
   "outputs": [],
   "source": [
    "token_respon = requests.get(\"http://54.163.150.6:8002/shmain/model/token\")\n",
    "token_list = token_respon.json()"
   ]
  },
  {
   "cell_type": "code",
   "execution_count": 3,
   "metadata": {},
   "outputs": [
    {
     "data": {
      "text/plain": [
       "['27538649', '82437506']"
      ]
     },
     "execution_count": 3,
     "metadata": {},
     "output_type": "execute_result"
    }
   ],
   "source": [
    "token_list"
   ]
  },
  {
   "cell_type": "code",
   "execution_count": 4,
   "metadata": {},
   "outputs": [],
   "source": [
    "for i in token_list:\n",
    "    if os.path.isdir(os.path.join('src/', i)) == False:\n",
    "        os.mkdir(os.path.join('src/', i))\n",
    "        wget.download(\"http://54.163.150.6:8002/shmain/model/data?token=\"+str(i), os.path.join('src/', i))\n",
    "    else:\n",
    "        wget.download(\"http://54.163.150.6:8002/shmain/model/data?token=\"+str(i), os.path.join('src/', i))"
   ]
  },
  {
   "cell_type": "markdown",
   "metadata": {},
   "source": [
    "# Data Processing"
   ]
  },
  {
   "cell_type": "code",
   "execution_count": 5,
   "metadata": {},
   "outputs": [],
   "source": [
    "def clean_disconti(array, time): \n",
    "    clean_arr = np.empty((len(array)))\n",
    "    for i in range(len(array)):\n",
    "        if (i>2) & (i<len(array)-2):\n",
    "            if min(abs(array[i]-array[i+1])/(time[i+1]-time[i]).total_seconds(), abs(array[i]-array[i-1])/(time[i]-time[i-1]).total_seconds()) > 0.3:\n",
    "                clean_arr[i] = (array[i-1]+array[i+1])/2\n",
    "            else:\n",
    "                clean_arr[i] = array[i]\n",
    "        else:\n",
    "            clean_arr[i] = array[i]\n",
    "    return clean_arr"
   ]
  },
  {
   "cell_type": "markdown",
   "metadata": {},
   "source": [
    "function clean_disconti( tempeaature, time)\n",
    "\n",
    "temperature : ndarray\n",
    "\n",
    "time : ndarray\n",
    "\n",
    "output : 修掉不正常的點"
   ]
  },
  {
   "cell_type": "code",
   "execution_count": 155,
   "metadata": {},
   "outputs": [],
   "source": [
    "def mv_avg(x, window_size):\n",
    "    output_arr = []\n",
    "    for data_idx in range(0, len(x)):\n",
    "        if data_idx < window_size-1:\n",
    "            output_arr.append(np.mean(x[:data_idx+1]))\n",
    "        elif data_idx == len(x):\n",
    "            break\n",
    "        else:\n",
    "            output_arr.append(np.mean(x[data_idx+1-window_size:data_idx+1]))\n",
    "    return np.array(output_arr)"
   ]
  },
  {
   "cell_type": "code",
   "execution_count": 164,
   "metadata": {},
   "outputs": [
    {
     "data": {
      "text/html": [
       "<div>\n",
       "<style scoped>\n",
       "    .dataframe tbody tr th:only-of-type {\n",
       "        vertical-align: middle;\n",
       "    }\n",
       "\n",
       "    .dataframe tbody tr th {\n",
       "        vertical-align: top;\n",
       "    }\n",
       "\n",
       "    .dataframe thead th {\n",
       "        text-align: right;\n",
       "    }\n",
       "</style>\n",
       "<table border=\"1\" class=\"dataframe\">\n",
       "  <thead>\n",
       "    <tr style=\"text-align: right;\">\n",
       "      <th></th>\n",
       "      <th>1_r</th>\n",
       "      <th>2_r</th>\n",
       "      <th>4</th>\n",
       "    </tr>\n",
       "  </thead>\n",
       "  <tbody>\n",
       "    <tr>\n",
       "      <th>0</th>\n",
       "      <td>1</td>\n",
       "      <td>2</td>\n",
       "      <td>3</td>\n",
       "    </tr>\n",
       "    <tr>\n",
       "      <th>1</th>\n",
       "      <td>3</td>\n",
       "      <td>4</td>\n",
       "      <td>5</td>\n",
       "    </tr>\n",
       "  </tbody>\n",
       "</table>\n",
       "</div>"
      ],
      "text/plain": [
       "   1_r  2_r  4\n",
       "0    1    2  3\n",
       "1    3    4  5"
      ]
     },
     "execution_count": 164,
     "metadata": {},
     "output_type": "execute_result"
    }
   ],
   "source": [
    "df = pd.DataFrame([[1,2,3], [3,4,5]])\n",
    "df.columns = ['1_r', '2_r', '4']\n",
    "df"
   ]
  },
  {
   "cell_type": "markdown",
   "metadata": {},
   "source": [
    "function mv_avg ( temperature, window_size)\n",
    "\n",
    "temperature : ndarray\n",
    "\n",
    "window_size :　int\n",
    "\n",
    "output : 移動平均，光滑的訊號\n"
   ]
  },
  {
   "cell_type": "code",
   "execution_count": 12,
   "metadata": {},
   "outputs": [],
   "source": [
    "def find_conti(x, time):\n",
    "    start = 0\n",
    "    while x[len(x)-start-1]-x[len(x)-start-2] > 0:\n",
    "        start += 1\n",
    "    return time[-start-1], x[len(x)-1]-x[len(x)-start-1]"
   ]
  },
  {
   "cell_type": "markdown",
   "metadata": {},
   "source": [
    "function find_conti(temperature)\n",
    "\n",
    "temperature : ndarray\n",
    "    \n",
    "return 開始上升的時間點(距離現在前幾秒) , 在這個區間裡面上升幾度"
   ]
  },
  {
   "cell_type": "code",
   "execution_count": 8,
   "metadata": {},
   "outputs": [],
   "source": [
    "def data_extraction(path):\n",
    "    data = pd.read_csv(path)\n",
    "\n",
    "    data.columns = [\"ID\", \"date\", \"time\", 'hr', 'temp', 'activity']\n",
    "\n",
    "    data['time'] = data['date']+' '+data['time']\n",
    "\n",
    "    data = data.drop(['date'], axis = 1)\n",
    "\n",
    "\n",
    "    data_time = np.array([datetime.datetime.strptime(i, '%Y-%m-%d %H:%M:%S') for i in data['time'].values])\n",
    "\n",
    "    data_temp = np.array((data['temp'].values)/100)\n",
    "\n",
    "    modify_temp_watch = clean_disconti(np.copy(data_temp), np.copy(data_time))\n",
    "\n",
    "    removable_disconti = [i for i, x in enumerate(((modify_temp_watch-data_temp)!=0).astype(int)) if x != 0]\n",
    "    \n",
    "    return data_time, modify_temp_watch, removable_disconti"
   ]
  },
  {
   "cell_type": "markdown",
   "metadata": {},
   "source": [
    "function data_extraction(path)\n",
    "\n",
    "return \n",
    "\n",
    "data_time : ndarray (時間tag, 陣列)\n",
    "\n",
    "modify_temp_watch : ndarray (體溫)\n",
    "\n",
    "removable_disconti : ndarray (有問題點的index)"
   ]
  },
  {
   "cell_type": "code",
   "execution_count": 9,
   "metadata": {},
   "outputs": [],
   "source": [
    "# plt.clf()\n",
    "# plt.figure(figsize=(16,9))\n",
    "# plt.plot(data_time[:-increasing_ti], smooth_data[:-increasing_ti] ,'grey')\n",
    "# plt.plot(data_time[-increasing_ti-1:], smooth_data[-increasing_ti-1:], 'r')\n",
    "# plt.xlabel('time')\n",
    "# plt.ylabel('temperature')\n",
    "# plt.legend(['regular temperature', 'increasing temperature'])\n",
    "# plt.title(\"Your temperature is higher then usual and has been increased for \"+str(increasing_ti)+\" minutes\")\n",
    "# # plt.xticks([datetime.datetime.strftime(data_time[0]+i*datetime.timedelta(seconds = 30), \"%H:%M:%S\") for i in range(0,5)], rotation = 20)\n",
    "# plt.xticks(rotation = 60)\n",
    "\n",
    "# plt.savefig('tmp.png')\n",
    "# plt.show()"
   ]
  },
  {
   "cell_type": "code",
   "execution_count": 19,
   "metadata": {},
   "outputs": [],
   "source": [
    "def main(path, cri_temperature, cri_increasing_time, window_size=None):\n",
    "    data_time, data_temperature, index_of_remove = data_extraction(path)\n",
    "    if window_size == None:\n",
    "        smooth_data = mv_avg(data_temperature, 4)\n",
    "    else:\n",
    "        smooth_data = mv_avg(data_temperature, window_size)\n",
    "    increasing_ti, increasing_temp = find_conti(smooth_data[:-2], data_time)\n",
    "    if (smooth_data[-1] > cri_temperature) & (data_time[-1] - increasing_ti > datetime.timedelta(seconds = cri_increasing_time)) :\n",
    "#         print(data_time[-1] - increasing_ti)\n",
    "        return 1\n",
    "    else:\n",
    "        return 0"
   ]
  },
  {
   "cell_type": "markdown",
   "metadata": {},
   "source": [
    "function main(data_path, cri_temperature, cri_increasing_time, window_size)\n",
    "\n",
    "data_path : format = csv\n",
    "\n",
    "cri_temperature : 高於多少溫度\n",
    "\n",
    "cri_increasing_time : 升高多少時間(seconds)\n",
    "\n",
    "window_size : optional default = 4 移動平均採樣點數\n",
    "\n",
    "return : int \n",
    "\n",
    "1:警示\n",
    "0:沒事"
   ]
  },
  {
   "cell_type": "code",
   "execution_count": 20,
   "metadata": {},
   "outputs": [
    {
     "name": "stdout",
     "output_type": "stream",
     "text": [
      "0:00:04\n"
     ]
    },
    {
     "data": {
      "text/plain": [
       "1"
      ]
     },
     "execution_count": 20,
     "metadata": {},
     "output_type": "execute_result"
    }
   ],
   "source": [
    "main(os.path.join('src/', token_list[1], token_list[1]+'.csv'), 26, 1)"
   ]
  }
 ],
 "metadata": {
  "kernelspec": {
   "display_name": "Python 3",
   "language": "python",
   "name": "python3"
  },
  "language_info": {
   "codemirror_mode": {
    "name": "ipython",
    "version": 3
   },
   "file_extension": ".py",
   "mimetype": "text/x-python",
   "name": "python",
   "nbconvert_exporter": "python",
   "pygments_lexer": "ipython3",
   "version": "3.7.3"
  }
 },
 "nbformat": 4,
 "nbformat_minor": 4
}
