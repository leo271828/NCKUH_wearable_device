{
 "cells": [
  {
   "cell_type": "code",
<<<<<<< HEAD
   "execution_count": 74,
=======
   "execution_count": 185,
>>>>>>> 7bcf74d482f41be66b1430249fb49b35910bd08d
   "metadata": {},
   "outputs": [],
   "source": [
    "import numpy as np\n",
    "import datetime\n",
    "import matplotlib.pyplot as plt\n",
    "import os\n",
    "import pandas as pd\n",
    "from dateutil.relativedelta import relativedelta"
   ]
  },
  {
   "cell_type": "code",
   "execution_count": 38,
   "metadata": {},
   "outputs": [],
   "source": [
    "PATH = \"//home//math//NCKU_H//wear_device_proj//src//\""
   ]
  },
  {
   "cell_type": "code",
   "execution_count": 39,
   "metadata": {},
   "outputs": [
    {
     "data": {
      "text/plain": [
       "[]"
      ]
     },
     "execution_count": 39,
     "metadata": {},
     "output_type": "execute_result"
    }
   ],
   "source": [
    "dirlist = []\n",
    "for dirPath, dirNames, fileNames in os.walk('home/'):\n",
    "    dirlist.append(dirNames)\n",
    "    break\n",
    "dirlist"
   ]
  },
  {
   "cell_type": "code",
<<<<<<< HEAD
   "execution_count": 48,
   "metadata": {},
   "outputs": [
    {
     "ename": "FileNotFoundError",
     "evalue": "[Errno 2] File b'//home//math//NCKU_H//wear_device_proj//src//75\\\\75.csv' does not exist: b'//home//math//NCKU_H//wear_device_proj//src//75\\\\75.csv'",
     "output_type": "error",
     "traceback": [
      "\u001b[0;31m---------------------------------------------------------------------------\u001b[0m",
      "\u001b[0;31mFileNotFoundError\u001b[0m                         Traceback (most recent call last)",
      "\u001b[0;32m<ipython-input-48-9426d6e2b931>\u001b[0m in \u001b[0;36m<module>\u001b[0;34m\u001b[0m\n\u001b[1;32m      1\u001b[0m \u001b[0;32mfor\u001b[0m \u001b[0mpid\u001b[0m \u001b[0;32min\u001b[0m \u001b[0mrange\u001b[0m\u001b[0;34m(\u001b[0m\u001b[0;36m75\u001b[0m\u001b[0;34m,\u001b[0m\u001b[0;36m76\u001b[0m\u001b[0;34m)\u001b[0m\u001b[0;34m:\u001b[0m\u001b[0;34m\u001b[0m\u001b[0;34m\u001b[0m\u001b[0m\n\u001b[0;32m----> 2\u001b[0;31m     \u001b[0mdf\u001b[0m \u001b[0;34m=\u001b[0m \u001b[0mpd\u001b[0m\u001b[0;34m.\u001b[0m\u001b[0mread_csv\u001b[0m\u001b[0;34m(\u001b[0m\u001b[0mPATH\u001b[0m\u001b[0;34m+\u001b[0m\u001b[0mstr\u001b[0m\u001b[0;34m(\u001b[0m\u001b[0mpid\u001b[0m\u001b[0;34m)\u001b[0m\u001b[0;34m+\u001b[0m\u001b[0;34m'\\\\'\u001b[0m\u001b[0;34m+\u001b[0m\u001b[0mstr\u001b[0m\u001b[0;34m(\u001b[0m\u001b[0mpid\u001b[0m\u001b[0;34m)\u001b[0m\u001b[0;34m+\u001b[0m\u001b[0;34m'.csv'\u001b[0m\u001b[0;34m,\u001b[0m \u001b[0mheader\u001b[0m \u001b[0;34m=\u001b[0m \u001b[0;32mNone\u001b[0m\u001b[0;34m)\u001b[0m\u001b[0;34m\u001b[0m\u001b[0;34m\u001b[0m\u001b[0m\n\u001b[0m\u001b[1;32m      3\u001b[0m     \u001b[0mdf\u001b[0m\u001b[0;34m[\u001b[0m\u001b[0;36m0\u001b[0m\u001b[0;34m]\u001b[0m \u001b[0;34m=\u001b[0m \u001b[0;34m[\u001b[0m\u001b[0mdatetime\u001b[0m\u001b[0;34m.\u001b[0m\u001b[0mdatetime\u001b[0m\u001b[0;34m.\u001b[0m\u001b[0mstrptime\u001b[0m\u001b[0;34m(\u001b[0m\u001b[0mi\u001b[0m\u001b[0;34m,\u001b[0m \u001b[0;34m'%Y-%m-%d'\u001b[0m\u001b[0;34m)\u001b[0m \u001b[0;32mfor\u001b[0m \u001b[0mi\u001b[0m \u001b[0;32min\u001b[0m \u001b[0mdf\u001b[0m\u001b[0;34m[\u001b[0m\u001b[0;36m0\u001b[0m\u001b[0;34m]\u001b[0m\u001b[0;34m.\u001b[0m\u001b[0mvalues\u001b[0m\u001b[0;34m]\u001b[0m\u001b[0;34m\u001b[0m\u001b[0;34m\u001b[0m\u001b[0m\n\u001b[1;32m      4\u001b[0m     \u001b[0mdf\u001b[0m\u001b[0;34m[\u001b[0m\u001b[0;36m1\u001b[0m\u001b[0;34m]\u001b[0m \u001b[0;34m=\u001b[0m \u001b[0;34m[\u001b[0m\u001b[0mdatetime\u001b[0m\u001b[0;34m.\u001b[0m\u001b[0mdatetime\u001b[0m\u001b[0;34m.\u001b[0m\u001b[0mstrptime\u001b[0m\u001b[0;34m(\u001b[0m\u001b[0mi\u001b[0m\u001b[0;34m,\u001b[0m \u001b[0;34m'%H:%M:%S'\u001b[0m\u001b[0;34m)\u001b[0m\u001b[0;34m.\u001b[0m\u001b[0mtime\u001b[0m\u001b[0;34m(\u001b[0m\u001b[0;34m)\u001b[0m \u001b[0;32mfor\u001b[0m \u001b[0mi\u001b[0m \u001b[0;32min\u001b[0m \u001b[0mdf\u001b[0m\u001b[0;34m[\u001b[0m\u001b[0;36m1\u001b[0m\u001b[0;34m]\u001b[0m\u001b[0;34m.\u001b[0m\u001b[0mvalues\u001b[0m\u001b[0;34m]\u001b[0m\u001b[0;34m\u001b[0m\u001b[0;34m\u001b[0m\u001b[0m\n\u001b[1;32m      5\u001b[0m \u001b[0;34m\u001b[0m\u001b[0m\n",
      "\u001b[0;32m~/anaconda3/lib/python3.7/site-packages/pandas/io/parsers.py\u001b[0m in \u001b[0;36mparser_f\u001b[0;34m(filepath_or_buffer, sep, delimiter, header, names, index_col, usecols, squeeze, prefix, mangle_dupe_cols, dtype, engine, converters, true_values, false_values, skipinitialspace, skiprows, skipfooter, nrows, na_values, keep_default_na, na_filter, verbose, skip_blank_lines, parse_dates, infer_datetime_format, keep_date_col, date_parser, dayfirst, iterator, chunksize, compression, thousands, decimal, lineterminator, quotechar, quoting, doublequote, escapechar, comment, encoding, dialect, tupleize_cols, error_bad_lines, warn_bad_lines, delim_whitespace, low_memory, memory_map, float_precision)\u001b[0m\n\u001b[1;32m    700\u001b[0m                     skip_blank_lines=skip_blank_lines)\n\u001b[1;32m    701\u001b[0m \u001b[0;34m\u001b[0m\u001b[0m\n\u001b[0;32m--> 702\u001b[0;31m         \u001b[0;32mreturn\u001b[0m \u001b[0m_read\u001b[0m\u001b[0;34m(\u001b[0m\u001b[0mfilepath_or_buffer\u001b[0m\u001b[0;34m,\u001b[0m \u001b[0mkwds\u001b[0m\u001b[0;34m)\u001b[0m\u001b[0;34m\u001b[0m\u001b[0;34m\u001b[0m\u001b[0m\n\u001b[0m\u001b[1;32m    703\u001b[0m \u001b[0;34m\u001b[0m\u001b[0m\n\u001b[1;32m    704\u001b[0m     \u001b[0mparser_f\u001b[0m\u001b[0;34m.\u001b[0m\u001b[0m__name__\u001b[0m \u001b[0;34m=\u001b[0m \u001b[0mname\u001b[0m\u001b[0;34m\u001b[0m\u001b[0;34m\u001b[0m\u001b[0m\n",
      "\u001b[0;32m~/anaconda3/lib/python3.7/site-packages/pandas/io/parsers.py\u001b[0m in \u001b[0;36m_read\u001b[0;34m(filepath_or_buffer, kwds)\u001b[0m\n\u001b[1;32m    427\u001b[0m \u001b[0;34m\u001b[0m\u001b[0m\n\u001b[1;32m    428\u001b[0m     \u001b[0;31m# Create the parser.\u001b[0m\u001b[0;34m\u001b[0m\u001b[0;34m\u001b[0m\u001b[0;34m\u001b[0m\u001b[0m\n\u001b[0;32m--> 429\u001b[0;31m     \u001b[0mparser\u001b[0m \u001b[0;34m=\u001b[0m \u001b[0mTextFileReader\u001b[0m\u001b[0;34m(\u001b[0m\u001b[0mfilepath_or_buffer\u001b[0m\u001b[0;34m,\u001b[0m \u001b[0;34m**\u001b[0m\u001b[0mkwds\u001b[0m\u001b[0;34m)\u001b[0m\u001b[0;34m\u001b[0m\u001b[0;34m\u001b[0m\u001b[0m\n\u001b[0m\u001b[1;32m    430\u001b[0m \u001b[0;34m\u001b[0m\u001b[0m\n\u001b[1;32m    431\u001b[0m     \u001b[0;32mif\u001b[0m \u001b[0mchunksize\u001b[0m \u001b[0;32mor\u001b[0m \u001b[0miterator\u001b[0m\u001b[0;34m:\u001b[0m\u001b[0;34m\u001b[0m\u001b[0;34m\u001b[0m\u001b[0m\n",
      "\u001b[0;32m~/anaconda3/lib/python3.7/site-packages/pandas/io/parsers.py\u001b[0m in \u001b[0;36m__init__\u001b[0;34m(self, f, engine, **kwds)\u001b[0m\n\u001b[1;32m    893\u001b[0m             \u001b[0mself\u001b[0m\u001b[0;34m.\u001b[0m\u001b[0moptions\u001b[0m\u001b[0;34m[\u001b[0m\u001b[0;34m'has_index_names'\u001b[0m\u001b[0;34m]\u001b[0m \u001b[0;34m=\u001b[0m \u001b[0mkwds\u001b[0m\u001b[0;34m[\u001b[0m\u001b[0;34m'has_index_names'\u001b[0m\u001b[0;34m]\u001b[0m\u001b[0;34m\u001b[0m\u001b[0;34m\u001b[0m\u001b[0m\n\u001b[1;32m    894\u001b[0m \u001b[0;34m\u001b[0m\u001b[0m\n\u001b[0;32m--> 895\u001b[0;31m         \u001b[0mself\u001b[0m\u001b[0;34m.\u001b[0m\u001b[0m_make_engine\u001b[0m\u001b[0;34m(\u001b[0m\u001b[0mself\u001b[0m\u001b[0;34m.\u001b[0m\u001b[0mengine\u001b[0m\u001b[0;34m)\u001b[0m\u001b[0;34m\u001b[0m\u001b[0;34m\u001b[0m\u001b[0m\n\u001b[0m\u001b[1;32m    896\u001b[0m \u001b[0;34m\u001b[0m\u001b[0m\n\u001b[1;32m    897\u001b[0m     \u001b[0;32mdef\u001b[0m \u001b[0mclose\u001b[0m\u001b[0;34m(\u001b[0m\u001b[0mself\u001b[0m\u001b[0;34m)\u001b[0m\u001b[0;34m:\u001b[0m\u001b[0;34m\u001b[0m\u001b[0;34m\u001b[0m\u001b[0m\n",
      "\u001b[0;32m~/anaconda3/lib/python3.7/site-packages/pandas/io/parsers.py\u001b[0m in \u001b[0;36m_make_engine\u001b[0;34m(self, engine)\u001b[0m\n\u001b[1;32m   1120\u001b[0m     \u001b[0;32mdef\u001b[0m \u001b[0m_make_engine\u001b[0m\u001b[0;34m(\u001b[0m\u001b[0mself\u001b[0m\u001b[0;34m,\u001b[0m \u001b[0mengine\u001b[0m\u001b[0;34m=\u001b[0m\u001b[0;34m'c'\u001b[0m\u001b[0;34m)\u001b[0m\u001b[0;34m:\u001b[0m\u001b[0;34m\u001b[0m\u001b[0;34m\u001b[0m\u001b[0m\n\u001b[1;32m   1121\u001b[0m         \u001b[0;32mif\u001b[0m \u001b[0mengine\u001b[0m \u001b[0;34m==\u001b[0m \u001b[0;34m'c'\u001b[0m\u001b[0;34m:\u001b[0m\u001b[0;34m\u001b[0m\u001b[0;34m\u001b[0m\u001b[0m\n\u001b[0;32m-> 1122\u001b[0;31m             \u001b[0mself\u001b[0m\u001b[0;34m.\u001b[0m\u001b[0m_engine\u001b[0m \u001b[0;34m=\u001b[0m \u001b[0mCParserWrapper\u001b[0m\u001b[0;34m(\u001b[0m\u001b[0mself\u001b[0m\u001b[0;34m.\u001b[0m\u001b[0mf\u001b[0m\u001b[0;34m,\u001b[0m \u001b[0;34m**\u001b[0m\u001b[0mself\u001b[0m\u001b[0;34m.\u001b[0m\u001b[0moptions\u001b[0m\u001b[0;34m)\u001b[0m\u001b[0;34m\u001b[0m\u001b[0;34m\u001b[0m\u001b[0m\n\u001b[0m\u001b[1;32m   1123\u001b[0m         \u001b[0;32melse\u001b[0m\u001b[0;34m:\u001b[0m\u001b[0;34m\u001b[0m\u001b[0;34m\u001b[0m\u001b[0m\n\u001b[1;32m   1124\u001b[0m             \u001b[0;32mif\u001b[0m \u001b[0mengine\u001b[0m \u001b[0;34m==\u001b[0m \u001b[0;34m'python'\u001b[0m\u001b[0;34m:\u001b[0m\u001b[0;34m\u001b[0m\u001b[0;34m\u001b[0m\u001b[0m\n",
      "\u001b[0;32m~/anaconda3/lib/python3.7/site-packages/pandas/io/parsers.py\u001b[0m in \u001b[0;36m__init__\u001b[0;34m(self, src, **kwds)\u001b[0m\n\u001b[1;32m   1851\u001b[0m         \u001b[0mkwds\u001b[0m\u001b[0;34m[\u001b[0m\u001b[0;34m'usecols'\u001b[0m\u001b[0;34m]\u001b[0m \u001b[0;34m=\u001b[0m \u001b[0mself\u001b[0m\u001b[0;34m.\u001b[0m\u001b[0musecols\u001b[0m\u001b[0;34m\u001b[0m\u001b[0;34m\u001b[0m\u001b[0m\n\u001b[1;32m   1852\u001b[0m \u001b[0;34m\u001b[0m\u001b[0m\n\u001b[0;32m-> 1853\u001b[0;31m         \u001b[0mself\u001b[0m\u001b[0;34m.\u001b[0m\u001b[0m_reader\u001b[0m \u001b[0;34m=\u001b[0m \u001b[0mparsers\u001b[0m\u001b[0;34m.\u001b[0m\u001b[0mTextReader\u001b[0m\u001b[0;34m(\u001b[0m\u001b[0msrc\u001b[0m\u001b[0;34m,\u001b[0m \u001b[0;34m**\u001b[0m\u001b[0mkwds\u001b[0m\u001b[0;34m)\u001b[0m\u001b[0;34m\u001b[0m\u001b[0;34m\u001b[0m\u001b[0m\n\u001b[0m\u001b[1;32m   1854\u001b[0m         \u001b[0mself\u001b[0m\u001b[0;34m.\u001b[0m\u001b[0munnamed_cols\u001b[0m \u001b[0;34m=\u001b[0m \u001b[0mself\u001b[0m\u001b[0;34m.\u001b[0m\u001b[0m_reader\u001b[0m\u001b[0;34m.\u001b[0m\u001b[0munnamed_cols\u001b[0m\u001b[0;34m\u001b[0m\u001b[0;34m\u001b[0m\u001b[0m\n\u001b[1;32m   1855\u001b[0m \u001b[0;34m\u001b[0m\u001b[0m\n",
      "\u001b[0;32mpandas/_libs/parsers.pyx\u001b[0m in \u001b[0;36mpandas._libs.parsers.TextReader.__cinit__\u001b[0;34m()\u001b[0m\n",
      "\u001b[0;32mpandas/_libs/parsers.pyx\u001b[0m in \u001b[0;36mpandas._libs.parsers.TextReader._setup_parser_source\u001b[0;34m()\u001b[0m\n",
      "\u001b[0;31mFileNotFoundError\u001b[0m: [Errno 2] File b'//home//math//NCKU_H//wear_device_proj//src//75\\\\75.csv' does not exist: b'//home//math//NCKU_H//wear_device_proj//src//75\\\\75.csv'"
     ]
=======
   "execution_count": 671,
   "metadata": {},
   "outputs": [],
   "source": [
    "# 請分別輸入病人csv檔案,時間間隔,開始時間\n",
    "# 檔案名稱請附上結尾.csv\n",
    "# 時間間隔單位為分鐘\n",
    "# 開始時間預定為早上8.\n",
    "# ex : visualization('01A5.csv', 30)\n",
    "\n",
    "def visualization(file, time_step, start=8):\n",
    "    df = pd.read_csv(file, header = None)\n",
    "    df[0] = [dt.datetime.strptime(i, '%Y/%m/%d').date() for i in df[0].values]\n",
    "    df[1] = [dt.datetime.strptime(i, '%H:%M:%S').time() for i in df[1].values]\n",
    "    date_list = np.sort(list(dict.fromkeys(df[0].values)))\n",
    "    \n",
    "    today_date = date_list[-1] # 定義今天時間\n",
    "    time_zone = file[:4] + '_' + str(today_date) + ' box plot' \n",
    "    \n",
    "    date = df[0].values\n",
    "    d_filter = (date>=today_date)&(date<today_date+datetime.timedelta(days = 1))\n",
    "    \n",
    "    data = (df[3].values)[d_filter]/100 # each date\n",
    "    time = (df[1].values)[d_filter] # each hour\n",
    "   \n",
    "    start_datetime = datetime.datetime.combine(today_date, datetime.time(start,0))\n",
    "    end_datetime = datetime.datetime.combine(today_date, time[-1])\n",
    "    datetime_list = [(start_datetime+i*datetime.timedelta(minutes = time_step)) for i in range(int(np.floor((end_datetime-start_datetime)/datetime.timedelta(minutes = time_step))))]\n",
    "    \n",
    "    each_hour = []\n",
    "    for t_idx in range(len(datetime_list)):\n",
    "        t_filter = (time>=datetime_list[t_idx].time()) & (time<(datetime_list[t_idx]+datetime.timedelta(minutes = time_step)).time())\n",
    "        tmp = data[(t_filter)&(data>25)&(data<45)]\n",
    "        each_hour.append(tmp)\n",
    "\n",
    "    sick_hour, sick_tmp = read_tmp_to_list('01A5_ear.csv', today_date, datetime.time(start, 0), time_step, 34)\n",
    "    \n",
    "    plt.figure(figsize = (10,5))\n",
    "    plt.boxplot(each_hour, flierprops  = dict(markerfacecolor = 'b', marker = '.'))\n",
    "    baseline = plt.plot(np.linspace(1, time_step, time_step), [35 for i in range(time_step)], 'g:')\n",
    "    sick_points = plt.scatter(sick_hour, sick_tmp,  marker = 'D', color='r' )\n",
    "    \n",
    "    l1 = plt.legend(baseline, ['baseline'], loc='lower right')\n",
    "    plt.legend([sick_points], ['sick points'], loc='upper right')\n",
    "    plt.gca().add_artist(l1)\n",
    "\n",
    "    time_tag = [datetime.datetime.strftime(i, \"%H:%M\") for i in datetime_list]\n",
    "    plt.xticks(np.linspace(1, time_step, time_step), time_tag, rotation='vertical')\n",
    "    plt.xlabel('Hours')\n",
    "    plt.ylabel('Temperature')\n",
    "    plt.suptitle(time_zone)\n",
    "    plt.savefig( time_zone + '.png', dpi = 300)\n",
    "    plt.show()\n"
   ]
  },
  {
   "cell_type": "code",
   "execution_count": 673,
   "metadata": {},
   "outputs": [
    {
     "name": "stderr",
     "output_type": "stream",
     "text": [
      "/home/math/anaconda3/lib/python3.7/site-packages/ipykernel_launcher.py:14: SettingWithCopyWarning: \n",
      "A value is trying to be set on a copy of a slice from a DataFrame.\n",
      "Try using .loc[row_indexer,col_indexer] = value instead\n",
      "\n",
      "See the caveats in the documentation: http://pandas.pydata.org/pandas-docs/stable/indexing.html#indexing-view-versus-copy\n",
      "  \n"
     ]
    },
    {
     "data": {
      "image/png": "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\n",
      "text/plain": [
       "<Figure size 720x360 with 1 Axes>"
      ]
     },
     "metadata": {
      "needs_background": "light"
     },
     "output_type": "display_data"
    }
   ],
   "source": [
    "visualization( '01A5.csv', 30 )"
   ]
  },
  {
   "cell_type": "code",
   "execution_count": 674,
   "metadata": {},
   "outputs": [],
   "source": [
    "# 讀取耳溫量測表的資料 在主程式會用到\n",
    "\n",
    "def read_tmp_to_list(file, today_date, today_start_time, time_step, warning_cri = 37):\n",
    "    \n",
    "    df = pd.read_csv(file, header = None, skiprows=1)\n",
    "    df[0] = [dt.datetime.strptime(i, '%Y-%m-%d').date() for i in df[0].values]\n",
    "    df[1] = [dt.datetime.strptime(i, '%H:%M').time() for i in df[1].values]\n",
    "    if (type(today_date ) != datetime.date) | (type(today_start_time) != datetime.time):\n",
    "        print(\"ERROR DATA TYPE\")\n",
    "        return 0\n",
    "    else:\n",
    "        today_datetime = datetime.datetime.combine(today_date, today_start_time)\n",
    "\n",
    "    df_ear_warn = df[(df[2]>warning_cri)&(df[0]==today_date)&(df[1]>=today_start_time)]\n",
    "    \n",
    "    df_ear_warn[1] = [np.floor((datetime.datetime.combine(today_date, i)-today_datetime)/datetime.timedelta(minutes = time_step)) for i in df_ear_warn[1].values]\n",
    "    \n",
    "    return 1+df_ear_warn[1].values, df_ear_warn[2].values"
   ]
  },
  {
   "cell_type": "code",
   "execution_count": 658,
   "metadata": {},
   "outputs": [
    {
     "name": "stdout",
     "output_type": "stream",
     "text": [
      "<class 'numpy.datetime64'>\n",
      "366 days\n",
      "<class 'numpy.timedelta64'>\n",
      "2009-01-21\n",
      "2011-06-15T12:00\n",
      "7.0\n"
     ]
    }
   ],
   "source": [
    "datetime_delta = np.datetime64('2009-01-01') - np.datetime64('2008-01-01') \n",
    "print (type(np.datetime64('2009-01-01')))\n",
    "print(datetime_delta) #366 days \n",
    "print(type(datetime_delta) ) #<class 'numpy.timedelta64'> \n",
    "\n",
    "datetime_delta = np.datetime64('2009') + np.timedelta64(20, 'D') \n",
    "print(datetime_delta)#2009-01-21 \n",
    "\n",
    "datetime_delta = np.datetime64('2011-06-15T00:00') + np.timedelta64(12, 'h') \n",
    "print(datetime_delta)#2011-06-15T12:00 \n",
    "\n",
    "datetime_delta = np.timedelta64(1,'W') / np.timedelta64(1,'D') \n",
    "print(datetime_delta)#7.0\n",
    "\n"
   ]
  },
  {
   "cell_type": "code",
   "execution_count": 86,
   "metadata": {},
   "outputs": [],
   "source": [
    "tmp = [np.datetime64('2020-02-05T00:00:00.000000000'), np.datetime64('2020-01-03T00:00:00.000000000')]"
   ]
  },
  {
   "cell_type": "code",
   "execution_count": 470,
   "metadata": {},
   "outputs": [
    {
     "data": {
      "text/plain": [
       "2020"
      ]
     },
     "execution_count": 470,
     "metadata": {},
     "output_type": "execute_result"
    }
   ],
   "source": [
    "datetime.datetime(2020, 2, 4)+datetime.timedelta(hours = 1, minutes = 20)"
   ]
  },
  {
   "cell_type": "code",
   "execution_count": 223,
   "metadata": {},
   "outputs": [
    {
     "data": {
      "text/plain": [
       "datetime.datetime(2020, 2, 4, 9, 0)"
      ]
     },
     "execution_count": 223,
     "metadata": {},
     "output_type": "execute_result"
    }
   ],
   "source": [
    "datetime.datetime.combine(datetime.date(2020, 2, 4), datetime.time(8,0))+datetime.timedelta(minutes = 60)"
   ]
  },
  {
   "cell_type": "code",
   "execution_count": 655,
   "metadata": {},
   "outputs": [
    {
     "data": {
      "image/png": "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\n",
      "text/plain": [
       "<Figure size 432x288 with 1 Axes>"
      ]
     },
     "metadata": {
      "needs_background": "light"
     },
     "output_type": "display_data"
    }
   ],
   "source": [
    "\n",
    "import matplotlib.pyplot as plt\n",
    "line1, = plt.plot([1,2,3], label=\"Line 1\", linestyle='--')\n",
    "line2, = plt.plot([3,2,1], label=\"Line 2\", linewidth=4)\n",
    "# 为第一个线条创建图例\n",
    "first_legend = plt.legend(handles=[line1], loc=1)\n",
    "# 手动将图例添加到当前轴域\n",
    "ax = plt.gca().add_artist(first_legend)\n",
    "# 为第二个线条创建另一个图例\n",
    "plt.legend(handles=[line2], loc=4)\n",
    "plt.show()\n",
    "# ————————————————\n",
    "# 版权声明：本文为CSDN博主「开码牛」的原创文章，遵循 CC 4.0 BY-SA 版权协议，转载请附上原文出处链接及本声明。\n",
    "# 原文链接：https://blog.csdn.net/helunqu2017/article/details/78641290"
   ]
  },
  {
   "cell_type": "code",
   "execution_count": 130,
   "metadata": {},
   "outputs": [],
   "source": [
    "todays_date = dt.datetime.now()"
   ]
  },
  {
   "cell_type": "code",
   "execution_count": 137,
   "metadata": {},
   "outputs": [
    {
     "data": {
      "text/plain": [
       "'From 2020-02-13 to 2020-02-14'"
      ]
     },
     "execution_count": 137,
     "metadata": {},
     "output_type": "execute_result"
    }
   ],
   "source": [
    "time_zone = 'From '+np.datetime_as_string(np.datetime64(todays_date.date()), unit = 'D')+' to '+np.datetime_as_string(np.datetime64(todays_date+dt.timedelta(days=1)), unit = 'D')\n",
    "time_zone"
   ]
  },
  {
   "cell_type": "code",
   "execution_count": 129,
   "metadata": {},
   "outputs": [
    {
     "data": {
      "text/plain": [
       "'2020-02-13'"
      ]
     },
     "execution_count": 129,
     "metadata": {},
     "output_type": "execute_result"
>>>>>>> 7bcf74d482f41be66b1430249fb49b35910bd08d
    }
   ],
   "source": [
    "np.datetime_as_string(np.datetime64(dt.datetime.now().date()), unit = 'D')\n"
   ]
  },
  {
   "cell_type": "code",
   "execution_count": null,
   "metadata": {},
   "outputs": [],
   "source": []
  }
 ],
 "metadata": {
  "kernelspec": {
   "display_name": "Python 3",
   "language": "python",
   "name": "python3"
  },
  "language_info": {
   "codemirror_mode": {
    "name": "ipython",
    "version": 3
   },
   "file_extension": ".py",
   "mimetype": "text/x-python",
   "name": "python",
   "nbconvert_exporter": "python",
   "pygments_lexer": "ipython3",
   "version": "3.7.3"
  }
 },
 "nbformat": 4,
 "nbformat_minor": 4
}
