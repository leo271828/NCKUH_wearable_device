{
 "cells": [
  {
   "cell_type": "code",
   "execution_count": 1,
   "metadata": {},
   "outputs": [],
   "source": [
    "import requests\n",
    "import os\n",
    "import sys\n",
    "import pandas as pd\n",
    "import datetime\n",
    "import numpy as np\n",
    "\n",
    "SERVER_HOST = 'http://54.163.150.6:8002'\n",
    "TOKEN_PATH = '/shmain/model/token'\n",
    "DATA_PATH = '/shmain/model/data'\n",
    "CSV_PATH = '/tmp/csv'"
   ]
  },
  {
   "cell_type": "code",
   "execution_count": 2,
   "metadata": {},
   "outputs": [],
   "source": [
    "def request_tokens():\n",
    "    \"\"\"\n",
    "    Request token list from wristband server\n",
    "\n",
    "    Input\n",
    "    ---\n",
    "        None\n",
    "\n",
    "    Output\n",
    "    ---\n",
    "        [str] List of token\n",
    "\n",
    "    \"\"\"\n",
    "    response = requests.get(SERVER_HOST + TOKEN_PATH)\n",
    "    tokens = response.json()\n",
    "    return tokens"
   ]
  },
  {
   "cell_type": "code",
   "execution_count": 3,
   "metadata": {},
   "outputs": [
    {
     "name": "stdout",
     "output_type": "stream",
     "text": [
      "['27538649', '82437506']\n"
     ]
    }
   ],
   "source": [
    "token_list = request_tokens()\n",
    "print(token_list)"
   ]
  },
  {
   "cell_type": "code",
   "execution_count": 13,
   "metadata": {},
   "outputs": [],
   "source": [
    "def save_csv(tokens:[str]):\n",
    "    \"\"\"\n",
    "    Create directory store wristband CSV files\n",
    "\n",
    "    Input\n",
    "    ---\n",
    "        tokens:[str] List of token\n",
    "\n",
    "    Output\n",
    "    ---\n",
    "        None\n",
    "\n",
    "    \"\"\"\n",
    "    # create directory is not exists\n",
    "    if os.path.isdir(CSV_PATH) == False:\n",
    "        os.mkdir(CSV_PATH)\n",
    "\n",
    "    for item in tokens:\n",
    "        response = requests.get(f'{SERVER_HOST}{DATA_PATH}?token={item}')\n",
    "        with open(f'{CSV_PATH}/{item}.csv', 'w') as csv_file:\n",
    "            csv_file.write(response.text)\n",
    "            csv_file.close()"
   ]
  },
  {
   "cell_type": "code",
   "execution_count": 14,
   "metadata": {},
   "outputs": [
    {
     "name": "stdout",
     "output_type": "stream",
     "text": [
      "['27538649.csv', '82437506.csv']\n"
     ]
    }
   ],
   "source": [
    "save_csv(token_list)\n",
    "print(os.listdir(CSV_PATH))"
   ]
  },
  {
   "cell_type": "markdown",
   "metadata": {},
   "source": [
    "# Data Processing"
   ]
  },
  {
   "cell_type": "code",
   "execution_count": 6,
   "metadata": {},
   "outputs": [],
   "source": [
    "def clean_disconti(array, time): \n",
    "    clean_arr = np.empty((len(array)))\n",
    "    for i in range(len(array)):\n",
    "        if (i>2) & (i<len(array)-2):\n",
    "            if min(abs(array[i]-array[i+1])/(time[i+1]-time[i]).total_seconds(), abs(array[i]-array[i-1])/(time[i]-time[i-1]).total_seconds()) > 0.3:\n",
    "                clean_arr[i] = (array[i-1]+array[i+1])/2\n",
    "            else:\n",
    "                clean_arr[i] = array[i]\n",
    "        else:\n",
    "            clean_arr[i] = array[i]\n",
    "    return clean_arr"
   ]
  },
  {
   "cell_type": "markdown",
   "metadata": {},
   "source": [
    "function clean_disconti( tempeaature, time)\n",
    "\n",
    "temperature : ndarray\n",
    "\n",
    "time : ndarray\n",
    "\n",
    "output : 修掉不正常的點"
   ]
  },
  {
   "cell_type": "code",
   "execution_count": 7,
   "metadata": {},
   "outputs": [],
   "source": [
    "def mv_avg(x, window_size):\n",
    "    output_arr = []\n",
    "    for data_idx in range(0, len(x)):\n",
    "        if (data_idx+window_size)>=len(x)-1:\n",
    "            output_arr.append(np.mean(x[data_idx:]))\n",
    "        else:\n",
    "            output_arr.append(np.mean(x[data_idx:data_idx+window_size]))\n",
    "    return np.array(output_arr)"
   ]
  },
  {
   "cell_type": "markdown",
   "metadata": {},
   "source": [
    "function mv_avg ( temperature, window_size)\n",
    "\n",
    "temperature : ndarray\n",
    "\n",
    "window_size :　int\n",
    "\n",
    "output : 移動平均，光滑的訊號\n"
   ]
  },
  {
   "cell_type": "code",
   "execution_count": 8,
   "metadata": {},
   "outputs": [],
   "source": [
    "def find_conti(x, time):\n",
    "    start = 0\n",
    "    while x[len(x)-start-1]-x[len(x)-start-2] > 0:\n",
    "        start += 1\n",
    "    return time[-start-1], x[len(x)-1]-x[len(x)-start-1]"
   ]
  },
  {
   "cell_type": "markdown",
   "metadata": {},
   "source": [
    "function find_conti(temperature)\n",
    "\n",
    "temperature : ndarray\n",
    "    \n",
    "return 開始上升的時間點(距離現在前幾秒) , 在這個區間裡面上升幾度"
   ]
  },
  {
   "cell_type": "code",
   "execution_count": 9,
   "metadata": {},
   "outputs": [],
   "source": [
    "def data_extraction(path):\n",
    "\n",
    "    data = pd.read_csv(path)\n",
    "    data.columns = [\"ID\", \"date\", \"time\", 'hr', 'temp', 'activity']\n",
    "    data['time'] = data['date']+' '+data['time']\n",
    "    data = data.drop(['date'], axis = 1)\n",
    "\n",
    "    data_time = np.array([datetime.datetime.strptime(i, '%Y-%m-%d %H:%M:%S') for i in data['time'].values])\n",
    "    data_temp = np.array((data['temp'].values)/100)\n",
    "    modify_temp_watch = clean_disconti(np.copy(data_temp), np.copy(data_time))\n",
    "    removable_disconti = [i for i, x in enumerate(((modify_temp_watch-data_temp)!=0).astype(int)) if x != 0]\n",
    "\n",
    "    return data_time, modify_temp_watch, removable_disconti"
   ]
  },
  {
   "cell_type": "markdown",
   "metadata": {},
   "source": [
    "function data_extraction(path)\n",
    "\n",
    "return \n",
    "\n",
    "data_time : ndarray (時間tag, 陣列)\n",
    "\n",
    "modify_temp_watch : ndarray (體溫)\n",
    "\n",
    "removable_disconti : ndarray (有問題點的index)"
   ]
  },
  {
   "cell_type": "code",
   "execution_count": 10,
   "metadata": {},
   "outputs": [],
   "source": [
    "def main(path, cri_temperature, cri_increasing_time, window_size=None):\n",
    "\n",
    "    data_time, data_temperature, index_of_remove = data_extraction(path)\n",
    "    if window_size == None:\n",
    "        smooth_data = mv_avg(data_temperature, 4)\n",
    "    else:\n",
    "        smooth_data = mv_avg(data_temperature, window_size)\n",
    "\n",
    "    increasing_ti, increasing_temp = find_conti(smooth_data[:-2], data_time)\n",
    "    if (smooth_data[-1] > cri_temperature) & (data_time[-1] - increasing_ti > datetime.timedelta(seconds = cri_increasing_time)) :\n",
    "        return 1\n",
    "    else:\n",
    "        return 0"
   ]
  },
  {
   "cell_type": "markdown",
   "metadata": {},
   "source": [
    "function main(data_path, cri_temperature, cri_increasing_time, window_size)\n",
    "\n",
    "data_path : format = csv\n",
    "\n",
    "cri_temperature : 高於多少溫度\n",
    "\n",
    "cri_increasing_time : 升高多少時間(seconds)\n",
    "\n",
    "window_size : optional default = 4 移動平均採樣點數\n",
    "\n",
    "return : int \n",
    "\n",
    "1:警示\n",
    "0:沒事"
   ]
  },
  {
   "cell_type": "code",
   "execution_count": 15,
   "metadata": {},
   "outputs": [
    {
     "data": {
      "text/plain": [
       "1"
      ]
     },
     "execution_count": 15,
     "metadata": {},
     "output_type": "execute_result"
    }
   ],
   "source": [
    "main(CSV_PATH + '/' + token_list[1] +'.csv' , 26, 1)"
   ]
  },
  {
   "cell_type": "code",
   "execution_count": null,
   "metadata": {},
   "outputs": [],
   "source": []
  },
  {
   "cell_type": "code",
   "execution_count": null,
   "metadata": {},
   "outputs": [],
   "source": []
  }
 ],
 "metadata": {
  "kernelspec": {
   "display_name": "Python 3",
   "language": "python",
   "name": "python3"
  },
  "language_info": {
   "codemirror_mode": {
    "name": "ipython",
    "version": 3
   },
   "file_extension": ".py",
   "mimetype": "text/x-python",
   "name": "python",
   "nbconvert_exporter": "python",
   "pygments_lexer": "ipython3",
   "version": "3.7.3"
  }
 },
 "nbformat": 4,
 "nbformat_minor": 4
}
