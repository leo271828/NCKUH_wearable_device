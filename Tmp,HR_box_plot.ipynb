{
 "cells": [
  {
   "cell_type": "code",
   "execution_count": 1,
   "metadata": {},
   "outputs": [],
   "source": [
    "import matplotlib.pyplot as plt\n",
    "import pandas as pd\n",
    "import numpy as np\n",
    "import datetime\n",
    "import shutil\n",
    "import csv\n",
    "import os"
   ]
  },
  {
   "cell_type": "code",
   "execution_count": 18,
   "metadata": {},
   "outputs": [],
   "source": [
    "# 輸出 1.tmp + hr 的圖表 2.medians 的圖表\n",
    "# 主要函式\n",
    "# path為要讀取的資料夾 此資料夾包含所有病患的資料夾\n",
    "# time_step為時間間隔 單位為分鐘 請輸入20 or 30 ...\n",
    "def box_plot(path, time_step, start = 0):\n",
    "    \n",
    "#     plot, medians, mat檔要存的地方 個別建立一個新的資料夾\n",
    "    plot_path = path + '_plot' + '(' + str(time_step) + 'mins)'\n",
    "    med_path = path + '_medians' + '(' + str(time_step) + 'mins)'\n",
    "#     mat_path = path + '_mat' + '(' + str(time_step) + 'mins)'\n",
    "    check_dir(plot_path)\n",
    "    check_dir(med_path)\n",
    "#     check_dir(mat_path)\n",
    "\n",
    "    pid_list = os.listdir(path) \n",
    "    for pid in pid_list: # 進入每一個資料夾\n",
    "        if 'check' in pid: continue\n",
    "        path2 = path + '/' + pid\n",
    "        \n",
    "        check_csv_num(path2)        \n",
    "        for file in os.listdir(path2):\n",
    "            if 'check' in file: continue\n",
    "            if 'xlsx' in file: continue\n",
    "            os.mkdir( plot_path + '/' + pid) # 一個人的plot圖分別存在一個新的資料夾\n",
    "            os.mkdir( med_path + '/' + pid) # 一個人的medians圖分別存在一個新的資料夾\n",
    "#             os.mkdir( mat_path + '/' + pid) # 一個人的mat圖分別存在一個新的資料夾\n",
    "\n",
    "#             將medians, q1, q3分別記錄下來 並存成csv\n",
    "            tmp_q1 = []\n",
    "            tmp_med = []\n",
    "            tmp_q3 = []\n",
    "            hr_q1 = []\n",
    "            hr_med = []\n",
    "            hr_q3 = []\n",
    "            num = []\n",
    "            date_num = []\n",
    "            \n",
    "#             dataframe的標題分別對應到的值\n",
    "#             0  1    2    3  4    5 \n",
    "#             ID date time hp temp move\n",
    "\n",
    "            df = pd.read_csv( path + '/' + pid + '/' + file, header = None, skiprows=1)\n",
    "            df[1] = [datetime.datetime.strptime(i, '%Y-%m-%d') for i in df[1].values]\n",
    "            df[2] = [datetime.datetime.strptime(i, '%H:%M:%S').time() for i in df[2].values]\n",
    "            date_list = list(dict.fromkeys(df[1].values))\n",
    "    #             dataframe的標題分別對應到的值\n",
    "    #             0  1    2    3  4    5 \n",
    "    #             ID date time hr temp move\n",
    "\n",
    "            for d_idx in range(len(date_list)):\n",
    "                date = df[1].values\n",
    "                today_date = date_list[d_idx]\n",
    "                d_filter = (date>=date_list[d_idx])&(date<(date_list[d_idx]+np.timedelta64(1,'D')))\n",
    "                time_zone = 'From '+np.datetime_as_string(date_list[d_idx], unit = 'D')+' to '+np.datetime_as_string(date_list[d_idx]+np.timedelta64(1,'D'), unit = 'D')\n",
    "\n",
    "                TMP = (df[4].values)[d_filter] # each temp \n",
    "                HP = (df[3].values)[d_filter] # each heart rate\n",
    "                time = (df[2].values)[d_filter] # each hour\n",
    "\n",
    "                TMP = [i/100 for i in TMP]\n",
    "                TMP = np.array(TMP) # 將溫度換算成小數點\n",
    "\n",
    "                start_datetime = datetime.datetime.combine(pd.to_datetime(today_date), datetime.time(start,0))\n",
    "                end_datetime = datetime.datetime.combine(pd.to_datetime(today_date), time[-1])\n",
    "                datetime_list = [(start_datetime+i*datetime.timedelta(minutes = time_step)) for i in range(int(np.floor((end_datetime-start_datetime)/datetime.timedelta(minutes = time_step))))]\n",
    "    #             datetime_list 為x軸所標記的 當天的所有時間點 00:00, 00:10, 00:20...\n",
    "\n",
    "                each_tmp = []\n",
    "                each_hr = []\n",
    "\n",
    "    #             將各時段分別的TMP和HR紀錄進去each_tmp,each_hr\n",
    "                for h_idx in range(len(datetime_list)):\n",
    "                    h_filter = (time>=datetime_list[h_idx].time())&(time<(datetime_list[h_idx]+datetime.timedelta(minutes = time_step)).time())\n",
    "                    hp = HP[(h_filter)&(HP>=50)&(HP<200)]\n",
    "                    tmp = TMP[(h_filter)&(TMP>25)&(TMP<45)]\n",
    "                    each_tmp.append(tmp)\n",
    "                    each_hr.append(hp)\n",
    "\n",
    "                if time_step == 10 :\n",
    "                    time_tag = [datetime.datetime.strftime(datetime_list[i], \"%H:%M\") if i% 3 == 0 else '' for i in range(len(datetime_list))]\n",
    "                else :\n",
    "                    time_tag = [datetime.datetime.strftime(datetime_list[i], \"%H:%M\") for i in range(len(datetime_list))]\n",
    "\n",
    "    #             開始畫圖\n",
    "                plt.figure(figsize = (20,10))\n",
    "                plt.subplots_adjust(left=None, bottom=None, right=None, top=None, wspace=None, hspace=0.3)\n",
    "\n",
    "    #             temp pic\n",
    "                plt.subplot(211)\n",
    "                tmp_boxplot = plt.boxplot(each_tmp, flierprops = dict(markerfacecolor = 'b', marker = '.'))\n",
    "                baseline = plt.plot(np.linspace(1, len(datetime_list), len(datetime_list)), [35 for i in range(len(datetime_list))], 'g:')\n",
    "                plt.legend(baseline, ['baseline'], loc='upper right')\n",
    "\n",
    "                plt.xticks(np.linspace(1, len(datetime_list), len(datetime_list)), time_tag, rotation='vertical')\n",
    "                plt.ylim((29,41))\n",
    "                plt.xlabel('Hours')\n",
    "                plt.ylabel('Temperature')\n",
    "                plt.title(time_zone)\n",
    "\n",
    "    #             hp pic\n",
    "                plt.subplot(212)\n",
    "                hr_boxplot = plt.boxplot(each_hr, flierprops = dict(markerfacecolor = 'b', marker = '.'))\n",
    "                plt.plot(np.linspace(1, len(datetime_list), len(datetime_list)), [100 for i in range(len(datetime_list))], 'g:')\n",
    "                plt.legend(baseline, ['baseline'], loc='upper right')\n",
    "                plt.xticks(np.linspace(1, len(datetime_list), len(datetime_list)), time_tag, rotation='vertical')\n",
    "                plt.ylim((49,151))\n",
    "                plt.xlabel('Hours')\n",
    "                plt.ylabel('Heartbeat') \n",
    "\n",
    "                plt.savefig( plot_path + '/' +  pid + '/' +  file[:4] +'_tmp + hr box plot '+time_zone+'.png') # 存檔名稱\n",
    "                plt.clf()\n",
    "\n",
    "                for q_idx in range(len(tmp_boxplot['medians'])):\n",
    "\n",
    "                    tmp_q1.append(round(tmp_boxplot['whiskers'][2*q_idx].get_ydata()[0], 2))\n",
    "                    tmp_med.append(round(tmp_boxplot['medians'][q_idx].get_ydata()[0], 2))\n",
    "                    tmp_q3.append(round(tmp_boxplot['whiskers'][2*q_idx+1].get_ydata()[0], 2))\n",
    "\n",
    "                    hr_q1.append(round(hr_boxplot['whiskers'][2*q_idx].get_ydata()[0], 2))\n",
    "                    hr_med.append(round(hr_boxplot['medians'][q_idx].get_ydata()[0], 2))\n",
    "                    hr_q3.append(round(hr_boxplot['whiskers'][2*q_idx+1].get_ydata()[0], 2))\n",
    "\n",
    "                    num.append(q_idx+1)\n",
    "                    date_num.append(str(pd.to_datetime(today_date).date()))\n",
    "\n",
    "            med_dic = {'Date': np.array(date_num), 'Num': np.array(num),\n",
    "                        'Tmp_q1': np.array(tmp_q1), 'Tmp_med': np.array(tmp_med), 'Tmp_q3': np.array(tmp_q3),\n",
    "                        'HR_q1': np.array(hr_q1), 'HR_med': np.array(hr_med), 'HR_q3': np.array(hr_q3), }\n",
    "    #         存成csv檔\n",
    "            pd.DataFrame(med_dic).to_csv( med_path + '/' + pid + '/' + file[:4] + '_medians.csv', index=False)\n",
    "    #         存成mat檔\n",
    "    #         sio.savemat(mat_path + '/' + pid[:4] + '_medians.mat', file_dic) \n",
    "\n",
    "# 重建資料夾的函式\n",
    "def check_dir(path):\n",
    "    if os.path.isdir( path) :\n",
    "        shutil.rmtree( path , ignore_errors=True)\n",
    "    os.mkdir( path ) \n",
    "    \n",
    "# 有幾個csv檔 如有兩個以上 則將其合併成一個輸出\n",
    "def check_csv_num(path):\n",
    "    csv_num = 0 # 有幾個csv檔\n",
    "    for i in os.listdir(path):\n",
    "        if 'csv' in i: csv_num+=1\n",
    "    if csv_num>1:# 如果有兩個以上的csv 則將所有的csv彙整成一個csv\n",
    "        gather_csv(path)"
   ]
  },
  {
   "cell_type": "code",
   "execution_count": 19,
   "metadata": {},
   "outputs": [
    {
     "data": {
      "text/plain": [
       "<Figure size 1440x720 with 0 Axes>"
      ]
     },
     "metadata": {},
     "output_type": "display_data"
    },
    {
     "data": {
      "text/plain": [
       "<Figure size 1440x720 with 0 Axes>"
      ]
     },
     "metadata": {},
     "output_type": "display_data"
    },
    {
     "data": {
      "text/plain": [
       "<Figure size 1440x720 with 0 Axes>"
      ]
     },
     "metadata": {},
     "output_type": "display_data"
    },
    {
     "data": {
      "text/plain": [
       "<Figure size 1440x720 with 0 Axes>"
      ]
     },
     "metadata": {},
     "output_type": "display_data"
    },
    {
     "data": {
      "text/plain": [
       "<Figure size 1440x720 with 0 Axes>"
      ]
     },
     "metadata": {},
     "output_type": "display_data"
    },
    {
     "data": {
      "text/plain": [
       "<Figure size 1440x720 with 0 Axes>"
      ]
     },
     "metadata": {},
     "output_type": "display_data"
    },
    {
     "data": {
      "text/plain": [
       "<Figure size 1440x720 with 0 Axes>"
      ]
     },
     "metadata": {},
     "output_type": "display_data"
    },
    {
     "data": {
      "text/plain": [
       "<Figure size 1440x720 with 0 Axes>"
      ]
     },
     "metadata": {},
     "output_type": "display_data"
    },
    {
     "data": {
      "text/plain": [
       "<Figure size 1440x720 with 0 Axes>"
      ]
     },
     "metadata": {},
     "output_type": "display_data"
    },
    {
     "data": {
      "text/plain": [
       "<Figure size 1440x720 with 0 Axes>"
      ]
     },
     "metadata": {},
     "output_type": "display_data"
    },
    {
     "data": {
      "text/plain": [
       "<Figure size 1440x720 with 0 Axes>"
      ]
     },
     "metadata": {},
     "output_type": "display_data"
    },
    {
     "data": {
      "text/plain": [
       "<Figure size 1440x720 with 0 Axes>"
      ]
     },
     "metadata": {},
     "output_type": "display_data"
    },
    {
     "data": {
      "text/plain": [
       "<Figure size 1440x720 with 0 Axes>"
      ]
     },
     "metadata": {},
     "output_type": "display_data"
    },
    {
     "data": {
      "text/plain": [
       "<Figure size 1440x720 with 0 Axes>"
      ]
     },
     "metadata": {},
     "output_type": "display_data"
    },
    {
     "data": {
      "text/plain": [
       "<Figure size 1440x720 with 0 Axes>"
      ]
     },
     "metadata": {},
     "output_type": "display_data"
    },
    {
     "data": {
      "text/plain": [
       "<Figure size 1440x720 with 0 Axes>"
      ]
     },
     "metadata": {},
     "output_type": "display_data"
    },
    {
     "data": {
      "text/plain": [
       "<Figure size 1440x720 with 0 Axes>"
      ]
     },
     "metadata": {},
     "output_type": "display_data"
    },
    {
     "data": {
      "text/plain": [
       "<Figure size 1440x720 with 0 Axes>"
      ]
     },
     "metadata": {},
     "output_type": "display_data"
    },
    {
     "data": {
      "text/plain": [
       "<Figure size 1440x720 with 0 Axes>"
      ]
     },
     "metadata": {},
     "output_type": "display_data"
    },
    {
     "data": {
      "text/plain": [
       "<Figure size 1440x720 with 0 Axes>"
      ]
     },
     "metadata": {},
     "output_type": "display_data"
    },
    {
     "data": {
      "text/plain": [
       "<Figure size 1440x720 with 0 Axes>"
      ]
     },
     "metadata": {},
     "output_type": "display_data"
    },
    {
     "data": {
      "text/plain": [
       "<Figure size 1440x720 with 0 Axes>"
      ]
     },
     "metadata": {},
     "output_type": "display_data"
    },
    {
     "data": {
      "text/plain": [
       "<Figure size 1440x720 with 0 Axes>"
      ]
     },
     "metadata": {},
     "output_type": "display_data"
    },
    {
     "data": {
      "text/plain": [
       "<Figure size 1440x720 with 0 Axes>"
      ]
     },
     "metadata": {},
     "output_type": "display_data"
    },
    {
     "data": {
      "text/plain": [
       "<Figure size 1440x720 with 0 Axes>"
      ]
     },
     "metadata": {},
     "output_type": "display_data"
    },
    {
     "data": {
      "text/plain": [
       "<Figure size 1440x720 with 0 Axes>"
      ]
     },
     "metadata": {},
     "output_type": "display_data"
    },
    {
     "data": {
      "text/plain": [
       "<Figure size 1440x720 with 0 Axes>"
      ]
     },
     "metadata": {},
     "output_type": "display_data"
    },
    {
     "data": {
      "text/plain": [
       "<Figure size 1440x720 with 0 Axes>"
      ]
     },
     "metadata": {},
     "output_type": "display_data"
    },
    {
     "data": {
      "text/plain": [
       "<Figure size 1440x720 with 0 Axes>"
      ]
     },
     "metadata": {},
     "output_type": "display_data"
    },
    {
     "data": {
      "text/plain": [
       "<Figure size 1440x720 with 0 Axes>"
      ]
     },
     "metadata": {},
     "output_type": "display_data"
    },
    {
     "data": {
      "text/plain": [
       "<Figure size 1440x720 with 0 Axes>"
      ]
     },
     "metadata": {},
     "output_type": "display_data"
    },
    {
     "data": {
      "text/plain": [
       "<Figure size 1440x720 with 0 Axes>"
      ]
     },
     "metadata": {},
     "output_type": "display_data"
    },
    {
     "data": {
      "text/plain": [
       "<Figure size 1440x720 with 0 Axes>"
      ]
     },
     "metadata": {},
     "output_type": "display_data"
    },
    {
     "data": {
      "text/plain": [
       "<Figure size 1440x720 with 0 Axes>"
      ]
     },
     "metadata": {},
     "output_type": "display_data"
    },
    {
     "data": {
      "text/plain": [
       "<Figure size 1440x720 with 0 Axes>"
      ]
     },
     "metadata": {},
     "output_type": "display_data"
    },
    {
     "data": {
      "text/plain": [
       "<Figure size 1440x720 with 0 Axes>"
      ]
     },
     "metadata": {},
     "output_type": "display_data"
    },
    {
     "data": {
      "text/plain": [
       "<Figure size 1440x720 with 0 Axes>"
      ]
     },
     "metadata": {},
     "output_type": "display_data"
    },
    {
     "data": {
      "text/plain": [
       "<Figure size 1440x720 with 0 Axes>"
      ]
     },
     "metadata": {},
     "output_type": "display_data"
    },
    {
     "data": {
      "text/plain": [
       "<Figure size 1440x720 with 0 Axes>"
      ]
     },
     "metadata": {},
     "output_type": "display_data"
    },
    {
     "data": {
      "text/plain": [
       "<Figure size 1440x720 with 0 Axes>"
      ]
     },
     "metadata": {},
     "output_type": "display_data"
    },
    {
     "data": {
      "text/plain": [
       "<Figure size 1440x720 with 0 Axes>"
      ]
     },
     "metadata": {},
     "output_type": "display_data"
    },
    {
     "data": {
      "text/plain": [
       "<Figure size 1440x720 with 0 Axes>"
      ]
     },
     "metadata": {},
     "output_type": "display_data"
    },
    {
     "data": {
      "text/plain": [
       "<Figure size 1440x720 with 0 Axes>"
      ]
     },
     "metadata": {},
     "output_type": "display_data"
    },
    {
     "data": {
      "text/plain": [
       "<Figure size 1440x720 with 0 Axes>"
      ]
     },
     "metadata": {},
     "output_type": "display_data"
    },
    {
     "data": {
      "text/plain": [
       "<Figure size 1440x720 with 0 Axes>"
      ]
     },
     "metadata": {},
     "output_type": "display_data"
    },
    {
     "data": {
      "text/plain": [
       "<Figure size 1440x720 with 0 Axes>"
      ]
     },
     "metadata": {},
     "output_type": "display_data"
    },
    {
     "data": {
      "text/plain": [
       "<Figure size 1440x720 with 0 Axes>"
      ]
     },
     "metadata": {},
     "output_type": "display_data"
    },
    {
     "data": {
      "text/plain": [
       "<Figure size 1440x720 with 0 Axes>"
      ]
     },
     "metadata": {},
     "output_type": "display_data"
    },
    {
     "data": {
      "text/plain": [
       "<Figure size 1440x720 with 0 Axes>"
      ]
     },
     "metadata": {},
     "output_type": "display_data"
    },
    {
     "data": {
      "text/plain": [
       "<Figure size 1440x720 with 0 Axes>"
      ]
     },
     "metadata": {},
     "output_type": "display_data"
    },
    {
     "data": {
      "text/plain": [
       "<Figure size 1440x720 with 0 Axes>"
      ]
     },
     "metadata": {},
     "output_type": "display_data"
    },
    {
     "data": {
      "text/plain": [
       "<Figure size 1440x720 with 0 Axes>"
      ]
     },
     "metadata": {},
     "output_type": "display_data"
    },
    {
     "data": {
      "text/plain": [
       "<Figure size 1440x720 with 0 Axes>"
      ]
     },
     "metadata": {},
     "output_type": "display_data"
    },
    {
     "data": {
      "text/plain": [
       "<Figure size 1440x720 with 0 Axes>"
      ]
     },
     "metadata": {},
     "output_type": "display_data"
    },
    {
     "data": {
      "text/plain": [
       "<Figure size 1440x720 with 0 Axes>"
      ]
     },
     "metadata": {},
     "output_type": "display_data"
    },
    {
     "data": {
      "text/plain": [
       "<Figure size 1440x720 with 0 Axes>"
      ]
     },
     "metadata": {},
     "output_type": "display_data"
    },
    {
     "data": {
      "text/plain": [
       "<Figure size 1440x720 with 0 Axes>"
      ]
     },
     "metadata": {},
     "output_type": "display_data"
    },
    {
     "data": {
      "text/plain": [
       "<Figure size 1440x720 with 0 Axes>"
      ]
     },
     "metadata": {},
     "output_type": "display_data"
    },
    {
     "data": {
      "text/plain": [
       "<Figure size 1440x720 with 0 Axes>"
      ]
     },
     "metadata": {},
     "output_type": "display_data"
    },
    {
     "data": {
      "text/plain": [
       "<Figure size 1440x720 with 0 Axes>"
      ]
     },
     "metadata": {},
     "output_type": "display_data"
    },
    {
     "data": {
      "text/plain": [
       "<Figure size 1440x720 with 0 Axes>"
      ]
     },
     "metadata": {},
     "output_type": "display_data"
    },
    {
     "data": {
      "text/plain": [
       "<Figure size 1440x720 with 0 Axes>"
      ]
     },
     "metadata": {},
     "output_type": "display_data"
    },
    {
     "data": {
      "text/plain": [
       "<Figure size 1440x720 with 0 Axes>"
      ]
     },
     "metadata": {},
     "output_type": "display_data"
    }
   ],
   "source": [
    "import warnings\n",
    "warnings.filterwarnings('ignore')\n",
    "\n",
    "box_plot('ICU20200211', 10)"
   ]
  },
  {
   "cell_type": "code",
   "execution_count": 5,
   "metadata": {},
   "outputs": [],
   "source": [
    "# 當遇到一個檔案裡面有兩個以上的csv時 就呼叫它\n",
    "# 這裡的path需要打上病人的資料夾名稱\n",
    "# ex: path = 'ICU20200211/132'\n",
    "#     gather_csv(path)\n",
    "\n",
    "def gather_csv(path):\n",
    "    pid_list = os.listdir(path)\n",
    "    pt_info = []\n",
    "    watch_id = ''\n",
    "    \n",
    "    pid_list = [i for i in pid_list if ('check' or 'xlsx') not in i]\n",
    "    # remove useless file\n",
    "    \n",
    "    for pid in pid_list:\n",
    "        watch_id = pid[:4]\n",
    "        with open( path + '/' + pid , 'r') as f:\n",
    "            for line in f.readlines():\n",
    "                line = line.strip('\\n')\n",
    "                line = line.split(',')\n",
    "                pt_info.append(line)\n",
    "        os.remove(path+'/'+pid)\n",
    "        \n",
    "    df = pd.DataFrame(pt_info)\n",
    "    df_list = list(df.drop_duplicates(1)[1]) #用來找日期 等等才能命名\n",
    "    date_list = []\n",
    "    \n",
    "    for i in range(len(df_list)):\n",
    "        date_list.append(dt.date.today() - pd.to_datetime(df_list[i], format='%Y-%m-%d').date())\n",
    "    first = df_list[date_list.index(max(date_list))]\n",
    "    end = df_list[date_list.index(min(date_list))]\n",
    "    \n",
    "    with open( path + '/' + watch_id + '_' + first + ',' + end + '.csv', 'w', newline='') as csvfile:\n",
    "        writer = csv.writer(csvfile)\n",
    "        writer.writerows(pt_info)"
   ]
  },
  {
   "cell_type": "code",
   "execution_count": null,
   "metadata": {},
   "outputs": [],
   "source": []
  }
 ],
 "metadata": {
  "kernelspec": {
   "display_name": "Python 3",
   "language": "python",
   "name": "python3"
  },
  "language_info": {
   "codemirror_mode": {
    "name": "ipython",
    "version": 3
   },
   "file_extension": ".py",
   "mimetype": "text/x-python",
   "name": "python",
   "nbconvert_exporter": "python",
   "pygments_lexer": "ipython3",
   "version": "3.7.3"
  }
 },
 "nbformat": 4,
 "nbformat_minor": 4
}
