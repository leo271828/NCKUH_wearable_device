{
 "cells": [
  {
   "cell_type": "code",
   "execution_count": null,
   "metadata": {},
   "outputs": [],
   "source": [
    "from selenium import webdriver\n",
    "import wget\n",
    "import os\n",
    "import requests\n",
    "from bs4 import BeautifulSoup"
   ]
  },
  {
   "cell_type": "code",
   "execution_count": null,
   "metadata": {},
   "outputs": [],
   "source": []
  },
  {
   "cell_type": "code",
   "execution_count": 23,
   "metadata": {},
   "outputs": [
    {
     "ename": "WebDriverException",
     "evalue": "Message: '\\home\\math\\chromedriver' executable needs to be in PATH. Please see https://sites.google.com/a/chromium.org/chromedriver/home\n",
     "output_type": "error",
     "traceback": [
      "\u001b[0;31m---------------------------------------------------------------------------\u001b[0m",
      "\u001b[0;31mFileNotFoundError\u001b[0m                         Traceback (most recent call last)",
      "\u001b[0;32m~/anaconda3/lib/python3.7/site-packages/selenium/webdriver/common/service.py\u001b[0m in \u001b[0;36mstart\u001b[0;34m(self)\u001b[0m\n\u001b[1;32m     75\u001b[0m                                             \u001b[0mstderr\u001b[0m\u001b[0;34m=\u001b[0m\u001b[0mself\u001b[0m\u001b[0;34m.\u001b[0m\u001b[0mlog_file\u001b[0m\u001b[0;34m,\u001b[0m\u001b[0;34m\u001b[0m\u001b[0;34m\u001b[0m\u001b[0m\n\u001b[0;32m---> 76\u001b[0;31m                                             stdin=PIPE)\n\u001b[0m\u001b[1;32m     77\u001b[0m         \u001b[0;32mexcept\u001b[0m \u001b[0mTypeError\u001b[0m\u001b[0;34m:\u001b[0m\u001b[0;34m\u001b[0m\u001b[0;34m\u001b[0m\u001b[0m\n",
      "\u001b[0;32m~/anaconda3/lib/python3.7/subprocess.py\u001b[0m in \u001b[0;36m__init__\u001b[0;34m(self, args, bufsize, executable, stdin, stdout, stderr, preexec_fn, close_fds, shell, cwd, env, universal_newlines, startupinfo, creationflags, restore_signals, start_new_session, pass_fds, encoding, errors, text)\u001b[0m\n\u001b[1;32m    774\u001b[0m                                 \u001b[0merrread\u001b[0m\u001b[0;34m,\u001b[0m \u001b[0merrwrite\u001b[0m\u001b[0;34m,\u001b[0m\u001b[0;34m\u001b[0m\u001b[0;34m\u001b[0m\u001b[0m\n\u001b[0;32m--> 775\u001b[0;31m                                 restore_signals, start_new_session)\n\u001b[0m\u001b[1;32m    776\u001b[0m         \u001b[0;32mexcept\u001b[0m\u001b[0;34m:\u001b[0m\u001b[0;34m\u001b[0m\u001b[0;34m\u001b[0m\u001b[0m\n",
      "\u001b[0;32m~/anaconda3/lib/python3.7/subprocess.py\u001b[0m in \u001b[0;36m_execute_child\u001b[0;34m(self, args, executable, preexec_fn, close_fds, pass_fds, cwd, env, startupinfo, creationflags, shell, p2cread, p2cwrite, c2pread, c2pwrite, errread, errwrite, restore_signals, start_new_session)\u001b[0m\n\u001b[1;32m   1521\u001b[0m                             \u001b[0merr_msg\u001b[0m \u001b[0;34m+=\u001b[0m \u001b[0;34m': '\u001b[0m \u001b[0;34m+\u001b[0m \u001b[0mrepr\u001b[0m\u001b[0;34m(\u001b[0m\u001b[0merr_filename\u001b[0m\u001b[0;34m)\u001b[0m\u001b[0;34m\u001b[0m\u001b[0;34m\u001b[0m\u001b[0m\n\u001b[0;32m-> 1522\u001b[0;31m                     \u001b[0;32mraise\u001b[0m \u001b[0mchild_exception_type\u001b[0m\u001b[0;34m(\u001b[0m\u001b[0merrno_num\u001b[0m\u001b[0;34m,\u001b[0m \u001b[0merr_msg\u001b[0m\u001b[0;34m,\u001b[0m \u001b[0merr_filename\u001b[0m\u001b[0;34m)\u001b[0m\u001b[0;34m\u001b[0m\u001b[0;34m\u001b[0m\u001b[0m\n\u001b[0m\u001b[1;32m   1523\u001b[0m                 \u001b[0;32mraise\u001b[0m \u001b[0mchild_exception_type\u001b[0m\u001b[0;34m(\u001b[0m\u001b[0merr_msg\u001b[0m\u001b[0;34m)\u001b[0m\u001b[0;34m\u001b[0m\u001b[0;34m\u001b[0m\u001b[0m\n",
      "\u001b[0;31mFileNotFoundError\u001b[0m: [Errno 2] No such file or directory: '\\\\home\\\\math\\\\chromedriver': '\\\\home\\\\math\\\\chromedriver'",
      "\nDuring handling of the above exception, another exception occurred:\n",
      "\u001b[0;31mWebDriverException\u001b[0m                        Traceback (most recent call last)",
      "\u001b[0;32m<ipython-input-23-c6af51d9ba44>\u001b[0m in \u001b[0;36m<module>\u001b[0;34m\u001b[0m\n\u001b[0;32m----> 1\u001b[0;31m \u001b[0mweb\u001b[0m \u001b[0;34m=\u001b[0m \u001b[0mwebdriver\u001b[0m\u001b[0;34m.\u001b[0m\u001b[0mChrome\u001b[0m\u001b[0;34m(\u001b[0m\u001b[0;34m'\\home\\math\\chromedriver'\u001b[0m\u001b[0;34m)\u001b[0m\u001b[0;34m\u001b[0m\u001b[0;34m\u001b[0m\u001b[0m\n\u001b[0m",
      "\u001b[0;32m~/anaconda3/lib/python3.7/site-packages/selenium/webdriver/chrome/webdriver.py\u001b[0m in \u001b[0;36m__init__\u001b[0;34m(self, executable_path, port, options, service_args, desired_capabilities, service_log_path, chrome_options, keep_alive)\u001b[0m\n\u001b[1;32m     71\u001b[0m             \u001b[0mservice_args\u001b[0m\u001b[0;34m=\u001b[0m\u001b[0mservice_args\u001b[0m\u001b[0;34m,\u001b[0m\u001b[0;34m\u001b[0m\u001b[0;34m\u001b[0m\u001b[0m\n\u001b[1;32m     72\u001b[0m             log_path=service_log_path)\n\u001b[0;32m---> 73\u001b[0;31m         \u001b[0mself\u001b[0m\u001b[0;34m.\u001b[0m\u001b[0mservice\u001b[0m\u001b[0;34m.\u001b[0m\u001b[0mstart\u001b[0m\u001b[0;34m(\u001b[0m\u001b[0;34m)\u001b[0m\u001b[0;34m\u001b[0m\u001b[0;34m\u001b[0m\u001b[0m\n\u001b[0m\u001b[1;32m     74\u001b[0m \u001b[0;34m\u001b[0m\u001b[0m\n\u001b[1;32m     75\u001b[0m         \u001b[0;32mtry\u001b[0m\u001b[0;34m:\u001b[0m\u001b[0;34m\u001b[0m\u001b[0;34m\u001b[0m\u001b[0m\n",
      "\u001b[0;32m~/anaconda3/lib/python3.7/site-packages/selenium/webdriver/common/service.py\u001b[0m in \u001b[0;36mstart\u001b[0;34m(self)\u001b[0m\n\u001b[1;32m     81\u001b[0m                 raise WebDriverException(\n\u001b[1;32m     82\u001b[0m                     \"'%s' executable needs to be in PATH. %s\" % (\n\u001b[0;32m---> 83\u001b[0;31m                         os.path.basename(self.path), self.start_error_message)\n\u001b[0m\u001b[1;32m     84\u001b[0m                 )\n\u001b[1;32m     85\u001b[0m             \u001b[0;32melif\u001b[0m \u001b[0merr\u001b[0m\u001b[0;34m.\u001b[0m\u001b[0merrno\u001b[0m \u001b[0;34m==\u001b[0m \u001b[0merrno\u001b[0m\u001b[0;34m.\u001b[0m\u001b[0mEACCES\u001b[0m\u001b[0;34m:\u001b[0m\u001b[0;34m\u001b[0m\u001b[0;34m\u001b[0m\u001b[0m\n",
      "\u001b[0;31mWebDriverException\u001b[0m: Message: '\\home\\math\\chromedriver' executable needs to be in PATH. Please see https://sites.google.com/a/chromium.org/chromedriver/home\n"
     ]
    }
   ],
   "source": [
    "web = webdriver.Chrome('\\home\\math\\chromedriver')"
   ]
  },
  {
   "cell_type": "code",
   "execution_count": 11,
   "metadata": {},
   "outputs": [],
   "source": [
    "soup = BeautifulSoup(web.text, 'lxml')"
   ]
  },
  {
   "cell_type": "code",
   "execution_count": 15,
   "metadata": {},
   "outputs": [
    {
     "data": {
      "text/plain": [
       "<select name=\"pick\">\n",
       "<option value=\"37740\">37740</option>\n",
       "<option value=\"3796\">3796</option>\n",
       "<option value=\"376C\">376C</option>\n",
       "<option value=\"3742\">3742</option>\n",
       "<option value=\"373F\">373F</option>\n",
       "<option value=\"373C\">373C</option>\n",
       "<option value=\"3730\">3730</option>\n",
       "<option value=\"372D\">372D</option>\n",
       "<option value=\"6133\">6133</option>\n",
       "<option value=\"378B\">378B</option>\n",
       "<option value=\"3788\">3788</option>\n",
       "<option value=\"3784\">3784</option>\n",
       "<option value=\"377C\">377C</option>\n",
       "<option value=\"377A\">377A</option>\n",
       "<option value=\"3773\">3773</option>\n",
       "<option value=\"3770\">3770</option>\n",
       "<option value=\"376F\">376F</option>\n",
       "<option value=\"3768\">3768</option>\n",
       "<option value=\"3766\">3766</option>\n",
       "<option value=\"3762\">3762</option>\n",
       "<option value=\"375D\">375D</option>\n",
       "<option value=\"375B\">375B</option>\n",
       "<option value=\"3756\">3756</option>\n",
       "<option value=\"3754\">3754</option>\n",
       "<option value=\"3751\">3751</option>\n",
       "<option value=\"3750\">3750</option>\n",
       "<option value=\"374E\">374E</option>\n",
       "<option value=\"374D\">374D</option>\n",
       "<option value=\"374C\">374C</option>\n",
       "<option value=\"3749\">3749</option>\n",
       "<option value=\"373D\">373D</option>\n",
       "<option value=\"3738\">3738</option>\n",
       "<option value=\"3735\">3735</option>\n",
       "<option value=\"3732\">3732</option>\n",
       "<option value=\"372C\">372C</option>\n",
       "<option value=\"3729\">3729</option>\n",
       "<option value=\"3727\">3727</option>\n",
       "<option value=\"371C\">371C</option>\n",
       "<option value=\"0186\">0186</option>\n",
       "<option value=\"0142\">0142</option>\n",
       "<option value=\"0125\">0125</option>\n",
       "<option value=\"0121\">0121</option>\n",
       "<option value=\"0120\">0120</option>\n",
       "<option value=\"3725\">3725</option>\n",
       "<option value=\"378E\">378E</option>\n",
       "<option value=\"378C\">378C</option>\n",
       "<option value=\"377B\">377B</option>\n",
       "<option value=\"3794\">3794</option>\n",
       "<option value=\"3787\">3787</option>\n",
       "<option value=\"3774\">3774</option>\n",
       "<option value=\"3760\">3760</option>\n",
       "<option value=\"3759\">3759</option>\n",
       "<option value=\"3755\">3755</option>\n",
       "<option value=\"3753\">3753</option>\n",
       "<option value=\"3745\">3745</option>\n",
       "<option value=\"3740\">3740</option>\n",
       "<option value=\"3736\">3736</option>\n",
       "<option value=\"3726\">3726</option>\n",
       "<option value=\"3722\">3722</option>\n",
       "<option value=\"6132\">6132</option>\n",
       "<option value=\"018C\">018C</option>\n",
       "<option value=\"0189\">0189</option>\n",
       "<option value=\"0187\">0187</option>\n",
       "<option value=\"0185\">0185</option>\n",
       "<option value=\"0183\">0183</option>\n",
       "<option value=\"0182\">0182</option>\n",
       "<option value=\"0181\">0181</option>\n",
       "<option value=\"017E\">017E</option>\n",
       "<option value=\"017D\">017D</option>\n",
       "<option value=\"017B\">017B</option>\n",
       "<option value=\"017A\">017A</option>\n",
       "<option value=\"0179\">0179</option>\n",
       "<option value=\"0176\">0176</option>\n",
       "<option value=\"0175\">0175</option>\n",
       "<option value=\"0174\">0174</option>\n",
       "<option value=\"0173\">0173</option>\n",
       "<option value=\"0171\">0171</option>\n",
       "<option value=\"0170\">0170</option>\n",
       "<option value=\"016F\">016F</option>\n",
       "<option value=\"016B\">016B</option>\n",
       "<option value=\"016A\">016A</option>\n",
       "<option value=\"0169\">0169</option>\n",
       "<option value=\"0165\">0165</option>\n",
       "<option value=\"0164\">0164</option>\n",
       "<option value=\"0161\">0161</option>\n",
       "<option value=\"0160\">0160</option>\n",
       "<option value=\"015F\">015F</option>\n",
       "<option value=\"015D\">015D</option>\n",
       "<option value=\"015C\">015C</option>\n",
       "<option value=\"0159\">0159</option>\n",
       "<option value=\"0158\">0158</option>\n",
       "<option value=\"0157\">0157</option>\n",
       "<option value=\"0156\">0156</option>\n",
       "<option value=\"0154\">0154</option>\n",
       "<option value=\"0167\">0167</option>\n",
       "<option value=\"0184\">0184</option>\n",
       "<option value=\"016E\">016E</option>\n",
       "<option value=\"018A\">018A</option>\n",
       "<option value=\"612B\">612B</option>\n",
       "<option value=\"611C\">611C</option>\n",
       "<option value=\"611A\">611A</option>\n",
       "<option value=\"6119\">6119</option>\n",
       "<option value=\"6115\">6115</option>\n",
       "<option value=\"6113\">6113</option>\n",
       "<option value=\"6111\">6111</option>\n",
       "<option value=\"6110\">6110</option>\n",
       "<option value=\"610F\">610F</option>\n",
       "<option value=\"610E\">610E</option>\n",
       "<option value=\"610B\">610B</option>\n",
       "<option value=\"610D\">610D</option>\n",
       "</select>"
      ]
     },
     "execution_count": 15,
     "metadata": {},
     "output_type": "execute_result"
    }
   ],
   "source": [
    "soup.find(\"select\", {\"name\":\"pick\"})"
   ]
  },
  {
   "cell_type": "code",
   "execution_count": null,
   "metadata": {},
   "outputs": [],
   "source": []
  }
 ],
 "metadata": {
  "kernelspec": {
   "display_name": "Python 3",
   "language": "python",
   "name": "python3"
  },
  "language_info": {
   "codemirror_mode": {
    "name": "ipython",
    "version": 3
   },
   "file_extension": ".py",
   "mimetype": "text/x-python",
   "name": "python",
   "nbconvert_exporter": "python",
   "pygments_lexer": "ipython3",
   "version": "3.7.3"
  }
 },
 "nbformat": 4,
 "nbformat_minor": 4
}
